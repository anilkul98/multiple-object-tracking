{
 "cells": [
  {
   "cell_type": "markdown",
   "metadata": {
    "id": "xABx3A-soZMM"
   },
   "source": [
    "# Computer Vision III: Detection, Segmentation and Tracking (CV3DST) GNN Exercise\n",
    "\n",
    "In this exercise, we will first develop an extension of the ReID-based tracker we created in the previous exercise that will make it more robust to occlusions by allowing it to recover from missed detections. \n",
    "\n",
    "We will then implement a Message Passing Network from scratch, and we will use to build a model that will learn to combine position information and reid features to directly predict associations between past tracks and detections. We will use this model to create robust tracker. \n",
    "\n",
    "Your tasks are the following:\n",
    "- Adapt the track management scheme of our ReIDTracker allow it to recover from missed detections.\n",
    "- Implement a Message Passing Network from scratch to operate on bipartite graphs\n",
    "- Implement the pairwise feature  computation to obtain features for our Message Passing Network\n",
    "- Train the Message Passing Network and improve your tracker's IDF1 score\n",
    "\n",
    "\n",
    "## Setup\n",
    "\n",
    "### Download and extract project data to your Google Drive\n",
    "\n",
    "1.   **Required**: Please follow all instructions of exercise 0 before running this notebook.\n",
    "2.   Save this notebook to your Google Drive by clicking `Save a copy in Drive` from the `File` menu.\n",
    "3.   Download [this](https://vision.in.tum.de/webshare/u/cetintas/cv3dst_gnn_exercise.zip) zip file to your desktop, extract it and upload it into the `Colab Notebooks` folder in your Google Drive."
   ]
  },
  {
   "cell_type": "markdown",
   "metadata": {
    "id": "DWELy8_1pDm9"
   },
   "source": [
    "#### Connect the notebook to your Google Drive"
   ]
  },
  {
   "cell_type": "code",
   "execution_count": 1,
   "metadata": {
    "id": "QY4sb4bP7Wi8"
   },
   "outputs": [],
   "source": [
    "# from google.colab import drive\n",
    "\n",
    "# drive.mount('/content/gdrive')"
   ]
  },
  {
   "cell_type": "code",
   "execution_count": 2,
   "metadata": {
    "id": "7CDNCYKuF0VD"
   },
   "outputs": [],
   "source": [
    "# root_dir = \"gdrive/My Drive/Colab Notebooks/cv3dst_exercise/\"\n",
    "# gnn_root_dir = \"gdrive/My Drive/Colab Notebooks/cv3dst_gnn_exercise/\"\n",
    "root_dir = \"cv3dst_exercise/\"\n",
    "gnn_root_dir = \"cv3dst_gnn_exercise/\""
   ]
  },
  {
   "cell_type": "markdown",
   "metadata": {
    "id": "3wme28GdFAFY"
   },
   "source": [
    "The `root_dir` path points to the directory and the content in your Google Drive."
   ]
  },
  {
   "cell_type": "code",
   "execution_count": 3,
   "metadata": {
    "id": "G5IArCFxEz-M"
   },
   "outputs": [
    {
     "name": "stdout",
     "output_type": "stream",
     "text": [
      "preprocessed_data_test_2.pth  preprocessed_data_train_2.pth\r\n"
     ]
    }
   ],
   "source": [
    "# !ls \"gdrive/My Drive/Colab Notebooks/cv3dst_gnn_exercise/data\"\n",
    "!ls \"cv3dst_gnn_exercise/data\""
   ]
  },
  {
   "cell_type": "markdown",
   "metadata": {
    "id": "LFYSSMiwpxSq"
   },
   "source": [
    "#### Install and import Python libraries"
   ]
  },
  {
   "cell_type": "code",
   "execution_count": 4,
   "metadata": {
    "id": "KRMsynpFU6gh"
   },
   "outputs": [
    {
     "name": "stdout",
     "output_type": "stream",
     "text": [
      "Defaulting to user installation because normal site-packages is not writeable\n",
      "Requirement already satisfied: tqdm in /scratch/kuacc/apps/anaconda/3.6/envs/root_env/lib/python3.7/site-packages (4.42.1)\n",
      "Requirement already satisfied: lap in /scratch/users/akul16/.local/lib/python3.7/site-packages (0.4.0)\n",
      "\u001b[33mWARNING: You are using pip version 21.1.1; however, version 22.2.1 is available.\n",
      "You should consider upgrading via the '/kuacc/apps/anaconda/3.6/envs/root_env/bin/python -m pip install --upgrade pip' command.\u001b[0m\n",
      "Defaulting to user installation because normal site-packages is not writeable\n",
      "Collecting https://github.com/timmeinhardt/py-motmetrics/archive/fix_pandas_deprecating_warnings.zip\n",
      "  Using cached https://github.com/timmeinhardt/py-motmetrics/archive/fix_pandas_deprecating_warnings.zip\n",
      "Requirement already satisfied: numpy>=1.12.1 in /scratch/users/akul16/.local/lib/python3.7/site-packages (from motmetrics==1.1.3) (1.19.5)\n",
      "Requirement already satisfied: pandas>=0.23.1 in /scratch/kuacc/apps/anaconda/3.6/envs/root_env/lib/python3.7/site-packages (from motmetrics==1.1.3) (1.0.1)\n",
      "Requirement already satisfied: scipy>=0.19.0 in /scratch/kuacc/apps/anaconda/3.6/envs/root_env/lib/python3.7/site-packages (from motmetrics==1.1.3) (1.4.1)\n",
      "Requirement already satisfied: python-dateutil>=2.6.1 in /scratch/kuacc/apps/anaconda/3.6/envs/root_env/lib/python3.7/site-packages (from pandas>=0.23.1->motmetrics==1.1.3) (2.8.1)\n",
      "Requirement already satisfied: pytz>=2017.2 in /scratch/kuacc/apps/anaconda/3.6/envs/root_env/lib/python3.7/site-packages (from pandas>=0.23.1->motmetrics==1.1.3) (2019.3)\n",
      "Requirement already satisfied: six>=1.5 in /scratch/users/akul16/.local/lib/python3.7/site-packages (from python-dateutil>=2.6.1->pandas>=0.23.1->motmetrics==1.1.3) (1.15.0)\n",
      "\u001b[33mWARNING: You are using pip version 21.1.1; however, version 22.2.1 is available.\n",
      "You should consider upgrading via the '/kuacc/apps/anaconda/3.6/envs/root_env/bin/python -m pip install --upgrade pip' command.\u001b[0m\n"
     ]
    }
   ],
   "source": [
    "%load_ext autoreload\n",
    "%autoreload 2\n",
    "%matplotlib inline\n",
    "\n",
    "!pip install tqdm lap\n",
    "!pip install https://github.com/timmeinhardt/py-motmetrics/archive/fix_pandas_deprecating_warnings.zip"
   ]
  },
  {
   "cell_type": "code",
   "execution_count": 5,
   "metadata": {
    "id": "RGOohkAgo-hW"
   },
   "outputs": [
    {
     "name": "stderr",
     "output_type": "stream",
     "text": [
      "/kuacc/apps/anaconda/3.6/envs/root_env/lib/python3.7/site-packages/ipykernel_launcher.py:9: TqdmExperimentalWarning: Using `tqdm.autonotebook.tqdm` in notebook mode. Use `tqdm.tqdm` instead to force console mode (e.g. in jupyter console)\n",
      "  if __name__ == '__main__':\n"
     ]
    }
   ],
   "source": [
    "import os\n",
    "import sys\n",
    "sys.path.append(os.path.join(gnn_root_dir, 'src'))\n",
    "\n",
    "\n",
    "import matplotlib.pyplot as plt\n",
    "import numpy as np\n",
    "import time\n",
    "from tqdm.autonotebook import tqdm\n",
    "\n",
    "import torch\n",
    "from torch.utils.data import DataLoader\n",
    "\n",
    "from tracker.data_track import MOT16Sequences\n",
    "from tracker.tracker import Tracker, ReIDTracker\n",
    "from tracker.utils import run_tracker, cosine_distance\n",
    "from scipy.optimize import linear_sum_assignment as linear_assignment\n",
    "import os.path as osp\n",
    "\n",
    "import motmetrics as mm\n",
    "mm.lap.default_solver = 'lap'"
   ]
  },
  {
   "cell_type": "code",
   "execution_count": 6,
   "metadata": {
    "id": "hcbme23UQ5p2"
   },
   "outputs": [
    {
     "name": "stdout",
     "output_type": "stream",
     "text": [
      "MOT16-02  MOT16-04  MOT16-05  MOT16-09\tMOT16-10  MOT16-11  MOT16-13\n",
      "MOT16-01  MOT16-03  MOT16-06  MOT16-07\tMOT16-08  MOT16-12  MOT16-14\n"
     ]
    }
   ],
   "source": [
    "# !ls \"gdrive/My Drive/Colab Notebooks/cv3dst_exercise/data/MOT16/train\"\n",
    "# !ls \"gdrive/My Drive/Colab Notebooks/cv3dst_exercise/data/MOT16/test\"\n",
    "!ls \"cv3dst_exercise/data/MOT16/train\"\n",
    "!ls \"cv3dst_exercise/data/MOT16/test\""
   ]
  },
  {
   "cell_type": "markdown",
   "metadata": {
    "id": "-Qubi7uE6EPd"
   },
   "source": [
    "## Speed-Ups\n",
    "In order to speed up training and inference runtimes, in this exercise we will be working with pre-computed detections and ReID embeddings. We ran the object detector we provided in Exercise 0 and applied to all frames. We also computed reid embeddings for all boxes in every frame of the dataset so that they don't need to be computed every time you run your tracker. This yields over 10x speed improvements. You will not have to work directly with the resulting files, as we have internally adapted the boilerplate code to work with them."
   ]
  },
  {
   "cell_type": "code",
   "execution_count": 7,
   "metadata": {
    "id": "tESJ1I1n7ot1"
   },
   "outputs": [],
   "source": [
    "train_db = torch.load(osp.join(gnn_root_dir, 'data/preprocessed_data_train_2.pth'))"
   ]
  },
  {
   "cell_type": "markdown",
   "metadata": {
    "id": "bqQQId537ot2"
   },
   "source": [
    "## Exercise Part 0 - Assignment's 1 ReIDHungarianTracker\n",
    "\n",
    "We start by providing a sample solution of the ``ReIDTracker`` from Exercise 1.\n",
    "It will serve as our baseline.\n",
    "\n",
    "\n",
    "Recall that this tracker works by performing frame-to-frame bipartite matching between newly detected boxes and past tracks based on ReID distance. Whenever a past track cannot be matched, its killed. And whenever, a newly detected box cannot be match, it starts a new trajectory.\n",
    "\n",
    "**NOTE**: We have modified the ``compute_distance`` function in ``data_association`` from last week to include a thresshold on ReID distance (if ReID distance >0.1, matching is not possible). This is important to prevent our tracker from reusing tracks for very dissimilar objects.\n",
    "\n",
    "Results:\n",
    "```\n",
    "          IDF1   IDP   IDR  Rcll  Prcn  GT  MT  PT ML   FP    FN IDs   FM  MOTA  MOTP\n",
    "MOT16-02 40.5% 57.5% 31.3% 52.2% 96.1%  62  12  38 12  390  8873 203  210 49.1% 0.090\n",
    "MOT16-05 54.4% 64.4% 47.1% 68.8% 94.0% 133  54  67 12  305  2156 330  149 59.7% 0.142\n",
    "MOT16-09 49.9% 61.7% 41.9% 66.3% 97.7%  26  13  12  1   82  1793  77   76 63.3% 0.082\n",
    "MOT16-11 61.1% 67.4% 55.9% 80.2% 96.6%  75  44  24  7  266  1871 176   91 75.5% 0.083\n",
    "OVERALL  49.6% 62.3% 41.2% 63.5% 96.1% 296 123 141 32 1043 14693 786  526 59.0% 0.097\n",
    "```\n"
   ]
  },
  {
   "cell_type": "code",
   "execution_count": 8,
   "metadata": {
    "id": "S6ZQRUbo7ot2"
   },
   "outputs": [],
   "source": [
    "_UNMATCHED_COST=255\n",
    "class ReIDHungarianTracker(ReIDTracker):\n",
    "    def data_association(self, boxes, scores, pred_features):  \n",
    "        \"\"\"Refactored from previous implementation to split it onto distance computation and track management\"\"\"\n",
    "        if self.tracks:\n",
    "            track_boxes = torch.stack([t.box for t in self.tracks], axis=0)\n",
    "            track_features = torch.stack([t.get_feature() for t in self.tracks], axis=0)\n",
    "            \n",
    "            distance = self.compute_distance_matrix(track_features, pred_features,\n",
    "                                                    track_boxes, boxes, metric_fn=cosine_distance)\n",
    "\n",
    "            # Perform Hungarian matching.\n",
    "            row_idx, col_idx = linear_assignment(distance)            \n",
    "            self.update_tracks(row_idx, col_idx,distance, boxes, scores, pred_features)\n",
    "\n",
    "            \n",
    "        else:\n",
    "            # No tracks exist.\n",
    "            self.add(boxes, scores, pred_features)\n",
    "        \n",
    "    def update_tracks(self, row_idx, col_idx, distance, boxes, scores, pred_features):\n",
    "        \"\"\"Updates existing tracks and removes unmatched tracks.\n",
    "           Reminder: If the costs are equal to _UNMATCHED_COST, it's not a \n",
    "           match. \n",
    "        \"\"\"\n",
    "        track_ids = [t.id for t in self.tracks]\n",
    "\n",
    "        unmatched_track_ids = []\n",
    "        seen_track_ids = []\n",
    "        seen_box_idx = []\n",
    "        for track_idx, box_idx in zip(row_idx, col_idx):\n",
    "            costs = distance[track_idx, box_idx] \n",
    "            internal_track_id = track_ids[track_idx]\n",
    "            seen_track_ids.append(internal_track_id)\n",
    "            if costs == _UNMATCHED_COST:\n",
    "                unmatched_track_ids.append(internal_track_id)\n",
    "            else:\n",
    "                self.tracks[track_idx].box = boxes[box_idx]\n",
    "                self.tracks[track_idx].add_feature(pred_features[box_idx])\n",
    "                seen_box_idx.append(box_idx)\n",
    "\n",
    "        unseen_track_ids = set(track_ids) - set(seen_track_ids)\n",
    "        unmatched_track_ids.extend(list(unseen_track_ids))\n",
    "        self.tracks = [t for t in self.tracks\n",
    "                       if t.id not in unmatched_track_ids]\n",
    "\n",
    "\n",
    "        # Add new tracks.\n",
    "        new_boxes_idx = set(range(len(boxes))) - set(seen_box_idx)\n",
    "        new_boxes = [boxes[i] for i in new_boxes_idx]\n",
    "        new_scores = [scores[i] for i in new_boxes_idx]\n",
    "        new_features = [pred_features[i] for i in new_boxes_idx]\n",
    "        self.add(new_boxes, new_scores, new_features)\n"
   ]
  },
  {
   "cell_type": "code",
   "execution_count": 9,
   "metadata": {
    "id": "dZ1vBklj7ot3"
   },
   "outputs": [],
   "source": [
    "val_sequences = MOT16Sequences('MOT16-reid', root_dir = osp.join(root_dir, 'data/MOT16'), vis_threshold=0.)"
   ]
  },
  {
   "cell_type": "code",
   "execution_count": 10,
   "metadata": {
    "id": "x_z2Yl_ypm25"
   },
   "outputs": [
    {
     "name": "stdout",
     "output_type": "stream",
     "text": [
      "Tracking: MOT16-02\n",
      "Tracks found: 367\n",
      "Runtime for MOT16-02: 6.3 s.\n",
      "Tracking: MOT16-05\n",
      "Tracks found: 464\n",
      "Runtime for MOT16-05: 1.7 s.\n",
      "Tracking: MOT16-09\n",
      "Tracks found: 98\n",
      "Runtime for MOT16-09: 1.4 s.\n",
      "Tracking: MOT16-11\n",
      "Tracks found: 292\n",
      "Runtime for MOT16-11: 2.5 s.\n",
      "Runtime for all sequences: 11.9 s.\n",
      "          IDF1   IDP   IDR  Rcll  Prcn  GT  MT  PT ML   FP    FN IDs   FM  MOTA  MOTP\n",
      "MOT16-02 40.5% 57.5% 31.3% 52.2% 96.1%  62  12  38 12  390  8873 203  210 49.1% 0.090\n",
      "MOT16-05 54.4% 64.4% 47.1% 68.8% 94.0% 133  54  67 12  305  2156 330  149 59.7% 0.142\n",
      "MOT16-09 49.9% 61.7% 41.9% 66.3% 97.7%  26  13  12  1   82  1793  77   76 63.3% 0.082\n",
      "MOT16-11 61.1% 67.4% 55.9% 80.2% 96.6%  75  44  24  7  266  1871 176   91 75.5% 0.083\n",
      "OVERALL  49.6% 62.3% 41.2% 63.5% 96.1% 296 123 141 32 1043 14693 786  526 59.0% 0.097\n"
     ]
    },
    {
     "data": {
      "text/html": [
       "<div>\n",
       "<style scoped>\n",
       "    .dataframe tbody tr th:only-of-type {\n",
       "        vertical-align: middle;\n",
       "    }\n",
       "\n",
       "    .dataframe tbody tr th {\n",
       "        vertical-align: top;\n",
       "    }\n",
       "\n",
       "    .dataframe thead th {\n",
       "        text-align: right;\n",
       "    }\n",
       "</style>\n",
       "<table border=\"1\" class=\"dataframe\">\n",
       "  <thead>\n",
       "    <tr style=\"text-align: right;\">\n",
       "      <th></th>\n",
       "      <th>idf1</th>\n",
       "      <th>idp</th>\n",
       "      <th>idr</th>\n",
       "      <th>recall</th>\n",
       "      <th>precision</th>\n",
       "      <th>num_unique_objects</th>\n",
       "      <th>mostly_tracked</th>\n",
       "      <th>partially_tracked</th>\n",
       "      <th>mostly_lost</th>\n",
       "      <th>num_false_positives</th>\n",
       "      <th>num_misses</th>\n",
       "      <th>num_switches</th>\n",
       "      <th>num_fragmentations</th>\n",
       "      <th>mota</th>\n",
       "      <th>motp</th>\n",
       "    </tr>\n",
       "  </thead>\n",
       "  <tbody>\n",
       "    <tr>\n",
       "      <th>MOT16-02</th>\n",
       "      <td>0.405105</td>\n",
       "      <td>0.575262</td>\n",
       "      <td>0.312631</td>\n",
       "      <td>0.522469</td>\n",
       "      <td>0.961378</td>\n",
       "      <td>62</td>\n",
       "      <td>12</td>\n",
       "      <td>38</td>\n",
       "      <td>12</td>\n",
       "      <td>390</td>\n",
       "      <td>8873</td>\n",
       "      <td>203</td>\n",
       "      <td>210</td>\n",
       "      <td>0.490555</td>\n",
       "      <td>0.090340</td>\n",
       "    </tr>\n",
       "    <tr>\n",
       "      <th>MOT16-05</th>\n",
       "      <td>0.544104</td>\n",
       "      <td>0.643506</td>\n",
       "      <td>0.471303</td>\n",
       "      <td>0.688304</td>\n",
       "      <td>0.939795</td>\n",
       "      <td>133</td>\n",
       "      <td>54</td>\n",
       "      <td>67</td>\n",
       "      <td>12</td>\n",
       "      <td>305</td>\n",
       "      <td>2156</td>\n",
       "      <td>330</td>\n",
       "      <td>149</td>\n",
       "      <td>0.596501</td>\n",
       "      <td>0.142002</td>\n",
       "    </tr>\n",
       "    <tr>\n",
       "      <th>MOT16-09</th>\n",
       "      <td>0.499161</td>\n",
       "      <td>0.617322</td>\n",
       "      <td>0.418967</td>\n",
       "      <td>0.663286</td>\n",
       "      <td>0.977310</td>\n",
       "      <td>26</td>\n",
       "      <td>13</td>\n",
       "      <td>12</td>\n",
       "      <td>1</td>\n",
       "      <td>82</td>\n",
       "      <td>1793</td>\n",
       "      <td>77</td>\n",
       "      <td>76</td>\n",
       "      <td>0.633427</td>\n",
       "      <td>0.082336</td>\n",
       "    </tr>\n",
       "    <tr>\n",
       "      <th>MOT16-11</th>\n",
       "      <td>0.611340</td>\n",
       "      <td>0.673988</td>\n",
       "      <td>0.559347</td>\n",
       "      <td>0.801717</td>\n",
       "      <td>0.966032</td>\n",
       "      <td>75</td>\n",
       "      <td>44</td>\n",
       "      <td>24</td>\n",
       "      <td>7</td>\n",
       "      <td>266</td>\n",
       "      <td>1871</td>\n",
       "      <td>176</td>\n",
       "      <td>91</td>\n",
       "      <td>0.754875</td>\n",
       "      <td>0.082736</td>\n",
       "    </tr>\n",
       "    <tr>\n",
       "      <th>OVERALL</th>\n",
       "      <td>0.495843</td>\n",
       "      <td>0.623022</td>\n",
       "      <td>0.411784</td>\n",
       "      <td>0.635038</td>\n",
       "      <td>0.960803</td>\n",
       "      <td>296</td>\n",
       "      <td>123</td>\n",
       "      <td>141</td>\n",
       "      <td>32</td>\n",
       "      <td>1043</td>\n",
       "      <td>14693</td>\n",
       "      <td>786</td>\n",
       "      <td>526</td>\n",
       "      <td>0.589607</td>\n",
       "      <td>0.096605</td>\n",
       "    </tr>\n",
       "  </tbody>\n",
       "</table>\n",
       "</div>"
      ],
      "text/plain": [
       "              idf1       idp       idr    recall  precision  \\\n",
       "MOT16-02  0.405105  0.575262  0.312631  0.522469   0.961378   \n",
       "MOT16-05  0.544104  0.643506  0.471303  0.688304   0.939795   \n",
       "MOT16-09  0.499161  0.617322  0.418967  0.663286   0.977310   \n",
       "MOT16-11  0.611340  0.673988  0.559347  0.801717   0.966032   \n",
       "OVERALL   0.495843  0.623022  0.411784  0.635038   0.960803   \n",
       "\n",
       "          num_unique_objects  mostly_tracked  partially_tracked  mostly_lost  \\\n",
       "MOT16-02                  62              12                 38           12   \n",
       "MOT16-05                 133              54                 67           12   \n",
       "MOT16-09                  26              13                 12            1   \n",
       "MOT16-11                  75              44                 24            7   \n",
       "OVERALL                  296             123                141           32   \n",
       "\n",
       "          num_false_positives  num_misses  num_switches  num_fragmentations  \\\n",
       "MOT16-02                  390        8873           203                 210   \n",
       "MOT16-05                  305        2156           330                 149   \n",
       "MOT16-09                   82        1793            77                  76   \n",
       "MOT16-11                  266        1871           176                  91   \n",
       "OVERALL                  1043       14693           786                 526   \n",
       "\n",
       "              mota      motp  \n",
       "MOT16-02  0.490555  0.090340  \n",
       "MOT16-05  0.596501  0.142002  \n",
       "MOT16-09  0.633427  0.082336  \n",
       "MOT16-11  0.754875  0.082736  \n",
       "OVERALL   0.589607  0.096605  "
      ]
     },
     "execution_count": 10,
     "metadata": {},
     "output_type": "execute_result"
    }
   ],
   "source": [
    "tracker = ReIDHungarianTracker(None)\n",
    "run_tracker(val_sequences, db=train_db, tracker=tracker, output_dir=None)"
   ]
  },
  {
   "cell_type": "markdown",
   "metadata": {
    "id": "1NgkrWTy7ot4"
   },
   "source": [
    "## Exercise Part I - Long-Term ReID Tracker\n"
   ]
  },
  {
   "cell_type": "markdown",
   "metadata": {
    "id": "9R8udP5I7ot4"
   },
   "source": [
    "The tracker above has an obvious limitation: whenever a track cannot be matched with the detections of a given frame the track will be killed. This means that if our detector misses an object in a single frame (due to e.g. occlusion), we will not be able to recover that track, and we will start a new one. \n",
    "\n",
    "To fix this issue, we would like to allow our tracker to maintain tracks that are not matched during data association. We will refer to these tracks as **inactive**. During data association, we will try to match the detected boxes for the current frame to both tracks that are active (i.e. tracks that we were able to match in the previous frame) as well as those that are inactive. Therefore, if a detector misses an object in a frame and the object reappears after a few frames, we will still be able to match it to its corresponding track, instead of creating a new one.\n",
    "\n",
    "In order to adapt our tracker to have this behavior, we will use the `inactive` attribute from the `track` class (see `tracker/tracker.py`. This attribute will be assigned an integer indicating for how many frames a track has remained unmatched. Whenever we are able to match the track `t`, we will set `t.inactive=0` and, naturally, when tracks are initialized, the class constructor sets `inactive=0`. \n",
    "\n",
    "Your job is to maintain the `inactive` attribute of all tracks being kept by tracker so that its value represents the number of frames for which the track has been unmatched. Additionally, we introduce a `patience` parameter. Whenever a track has been inactive for more than `inactive` frames. it will need to be killed.\n",
    "\n",
    "Results should approximately be around:\n",
    "\n",
    "```\n",
    "          IDF1   IDP   IDR  Rcll  Prcn  GT  MT  PT ML   FP    FN IDs   FM  MOTA  MOTP\n",
    "MOT16-02 45.9% 65.1% 35.4% 52.2% 96.1%  62  12  37 13  390  8873 130  210 49.4% 0.090\n",
    "MOT16-05 63.4% 75.0% 54.9% 68.8% 94.0% 133  54  67 12  305  2156 283  149 60.3% 0.142\n",
    "MOT16-09 52.5% 64.9% 44.1% 66.3% 97.7%  26  13  12  1   82  1793  49   76 63.9% 0.083\n",
    "MOT16-11 68.3% 75.3% 62.5% 80.2% 96.6%  75  44  24  7  266  1871 136   90 75.9% 0.083\n",
    "OVERALL  55.7% 70.0% 46.2% 63.5% 96.1% 296 123 140 33 1043 14693 598  525 59.4% 0.097\n",
    "```\n"
   ]
  },
  {
   "cell_type": "code",
   "execution_count": 11,
   "metadata": {
    "id": "H84RSsmK7ot5"
   },
   "outputs": [],
   "source": [
    "class LongTermReIDHungarianTracker(ReIDHungarianTracker):\n",
    "    def __init__(self, patience, *args, **kwargs):\n",
    "        \"\"\" Add a patience parameter\"\"\"\n",
    "        self.patience=patience\n",
    "        super().__init__(*args, **kwargs)\n",
    "\n",
    "    def update_results(self):\n",
    "        \"\"\"Only store boxes for tracks that are active\"\"\"\n",
    "        for t in self.tracks:\n",
    "            if t.id not in self.results.keys():\n",
    "                self.results[t.id] = {}\n",
    "            if t.inactive == 0: # Only change\n",
    "                self.results[t.id][self.im_index] = np.concatenate([t.box.cpu().numpy(), np.array([t.score])])\n",
    "\n",
    "        self.im_index += 1        \n",
    "        \n",
    "    def update_tracks(self, row_idx, col_idx, distance, boxes, scores, pred_features):\n",
    "        track_ids = [t.id for t in self.tracks]\n",
    "\n",
    "        unmatched_track_ids = []\n",
    "        seen_track_ids = []\n",
    "        seen_box_idx = []\n",
    "        for track_idx, box_idx in zip(row_idx, col_idx):\n",
    "            costs = distance[track_idx, box_idx] \n",
    "            internal_track_id = track_ids[track_idx]\n",
    "            seen_track_ids.append(internal_track_id)\n",
    "            if costs == _UNMATCHED_COST:\n",
    "                unmatched_track_ids.append(internal_track_id)\n",
    "\n",
    "            else:\n",
    "                self.tracks[track_idx].box = boxes[box_idx]\n",
    "                self.tracks[track_idx].add_feature(pred_features[box_idx])\n",
    "                \n",
    "                # Note: the track is matched, therefore, inactive is set to 0\n",
    "                self.tracks[track_idx].inactive=0\n",
    "                seen_box_idx.append(box_idx)\n",
    "                \n",
    "\n",
    "        unseen_track_ids = set(track_ids) - set(seen_track_ids)\n",
    "        unmatched_track_ids.extend(list(unseen_track_ids))\n",
    "        ##################\n",
    "        ### TODO starts\n",
    "        ##################\n",
    "        \n",
    "        # Update the `inactive` attribute for those tracks that have been \n",
    "        # not been matched. kill those for which the inactive parameter \n",
    "        # is > self.patience\n",
    "        \n",
    "        def get_track_with_id(t_id):\n",
    "            for t in self.tracks:\n",
    "                if t.id == t_id:\n",
    "                    return t\n",
    "            return -1\n",
    "        \n",
    "        kill_id_list = []\n",
    "        for t_id in unmatched_track_ids:\n",
    "            t = get_track_with_id(t_id)\n",
    "            if t.inactive > self.patience:\n",
    "                kill_id_list.append(t_id)\n",
    "            else:\n",
    "                t.inactive += 1\n",
    "                    \n",
    "        self.tracks = [t for t in self.tracks\n",
    "                       if t.id not in kill_id_list] # <-- Needs to be updated\n",
    "\n",
    "        \n",
    "        ##################\n",
    "        ### TODO ends\n",
    "        ##################        \n",
    "        \n",
    "        new_boxes_idx = set(range(len(boxes))) - set(seen_box_idx)\n",
    "        new_boxes = [boxes[i] for i in new_boxes_idx]\n",
    "        new_scores = [scores[i] for i in new_boxes_idx]\n",
    "        new_features = [pred_features[i] for i in new_boxes_idx]\n",
    "        self.add(new_boxes, new_scores, new_features)"
   ]
  },
  {
   "cell_type": "code",
   "execution_count": 12,
   "metadata": {
    "id": "E-COcYAu7ot6"
   },
   "outputs": [
    {
     "name": "stdout",
     "output_type": "stream",
     "text": [
      "Tracking: MOT16-02\n",
      "Tracks found: 207\n",
      "Runtime for MOT16-02: 6.5 s.\n",
      "Tracking: MOT16-05\n",
      "Tracks found: 354\n",
      "Runtime for MOT16-05: 2.1 s.\n",
      "Tracking: MOT16-09\n",
      "Tracks found: 65\n",
      "Runtime for MOT16-09: 1.5 s.\n",
      "Tracking: MOT16-11\n",
      "Tracks found: 217\n",
      "Runtime for MOT16-11: 2.8 s.\n",
      "Runtime for all sequences: 12.9 s.\n",
      "          IDF1   IDP   IDR  Rcll  Prcn  GT  MT  PT ML   FP    FN IDs   FM  MOTA  MOTP\n",
      "MOT16-02 45.9% 65.1% 35.4% 52.2% 96.1%  62  12  37 13  390  8873 130  210 49.4% 0.090\n",
      "MOT16-05 63.4% 75.0% 54.9% 68.8% 94.0% 133  54  67 12  305  2156 283  149 60.3% 0.142\n",
      "MOT16-09 52.5% 64.9% 44.1% 66.3% 97.7%  26  13  12  1   82  1793  49   76 63.9% 0.083\n",
      "MOT16-11 68.3% 75.3% 62.5% 80.2% 96.6%  75  44  24  7  266  1871 136   90 75.9% 0.083\n",
      "OVERALL  55.7% 70.0% 46.2% 63.5% 96.1% 296 123 140 33 1043 14693 598  525 59.4% 0.097\n"
     ]
    },
    {
     "data": {
      "text/html": [
       "<div>\n",
       "<style scoped>\n",
       "    .dataframe tbody tr th:only-of-type {\n",
       "        vertical-align: middle;\n",
       "    }\n",
       "\n",
       "    .dataframe tbody tr th {\n",
       "        vertical-align: top;\n",
       "    }\n",
       "\n",
       "    .dataframe thead th {\n",
       "        text-align: right;\n",
       "    }\n",
       "</style>\n",
       "<table border=\"1\" class=\"dataframe\">\n",
       "  <thead>\n",
       "    <tr style=\"text-align: right;\">\n",
       "      <th></th>\n",
       "      <th>idf1</th>\n",
       "      <th>idp</th>\n",
       "      <th>idr</th>\n",
       "      <th>recall</th>\n",
       "      <th>precision</th>\n",
       "      <th>num_unique_objects</th>\n",
       "      <th>mostly_tracked</th>\n",
       "      <th>partially_tracked</th>\n",
       "      <th>mostly_lost</th>\n",
       "      <th>num_false_positives</th>\n",
       "      <th>num_misses</th>\n",
       "      <th>num_switches</th>\n",
       "      <th>num_fragmentations</th>\n",
       "      <th>mota</th>\n",
       "      <th>motp</th>\n",
       "    </tr>\n",
       "  </thead>\n",
       "  <tbody>\n",
       "    <tr>\n",
       "      <th>MOT16-02</th>\n",
       "      <td>0.458524</td>\n",
       "      <td>0.651119</td>\n",
       "      <td>0.353856</td>\n",
       "      <td>0.522469</td>\n",
       "      <td>0.961378</td>\n",
       "      <td>62</td>\n",
       "      <td>12</td>\n",
       "      <td>37</td>\n",
       "      <td>13</td>\n",
       "      <td>390</td>\n",
       "      <td>8873</td>\n",
       "      <td>130</td>\n",
       "      <td>210</td>\n",
       "      <td>0.494484</td>\n",
       "      <td>0.090339</td>\n",
       "    </tr>\n",
       "    <tr>\n",
       "      <th>MOT16-05</th>\n",
       "      <td>0.633898</td>\n",
       "      <td>0.749704</td>\n",
       "      <td>0.549082</td>\n",
       "      <td>0.688304</td>\n",
       "      <td>0.939795</td>\n",
       "      <td>133</td>\n",
       "      <td>54</td>\n",
       "      <td>67</td>\n",
       "      <td>12</td>\n",
       "      <td>305</td>\n",
       "      <td>2156</td>\n",
       "      <td>283</td>\n",
       "      <td>149</td>\n",
       "      <td>0.603296</td>\n",
       "      <td>0.141942</td>\n",
       "    </tr>\n",
       "    <tr>\n",
       "      <th>MOT16-09</th>\n",
       "      <td>0.525115</td>\n",
       "      <td>0.649419</td>\n",
       "      <td>0.440751</td>\n",
       "      <td>0.663286</td>\n",
       "      <td>0.977310</td>\n",
       "      <td>26</td>\n",
       "      <td>13</td>\n",
       "      <td>12</td>\n",
       "      <td>1</td>\n",
       "      <td>82</td>\n",
       "      <td>1793</td>\n",
       "      <td>49</td>\n",
       "      <td>76</td>\n",
       "      <td>0.638685</td>\n",
       "      <td>0.082643</td>\n",
       "    </tr>\n",
       "    <tr>\n",
       "      <th>MOT16-11</th>\n",
       "      <td>0.683269</td>\n",
       "      <td>0.753288</td>\n",
       "      <td>0.625159</td>\n",
       "      <td>0.801717</td>\n",
       "      <td>0.966032</td>\n",
       "      <td>75</td>\n",
       "      <td>44</td>\n",
       "      <td>24</td>\n",
       "      <td>7</td>\n",
       "      <td>266</td>\n",
       "      <td>1871</td>\n",
       "      <td>136</td>\n",
       "      <td>90</td>\n",
       "      <td>0.759114</td>\n",
       "      <td>0.082754</td>\n",
       "    </tr>\n",
       "    <tr>\n",
       "      <th>OVERALL</th>\n",
       "      <td>0.556888</td>\n",
       "      <td>0.699726</td>\n",
       "      <td>0.462480</td>\n",
       "      <td>0.635038</td>\n",
       "      <td>0.960803</td>\n",
       "      <td>296</td>\n",
       "      <td>123</td>\n",
       "      <td>140</td>\n",
       "      <td>33</td>\n",
       "      <td>1043</td>\n",
       "      <td>14693</td>\n",
       "      <td>598</td>\n",
       "      <td>525</td>\n",
       "      <td>0.594277</td>\n",
       "      <td>0.096641</td>\n",
       "    </tr>\n",
       "  </tbody>\n",
       "</table>\n",
       "</div>"
      ],
      "text/plain": [
       "              idf1       idp       idr    recall  precision  \\\n",
       "MOT16-02  0.458524  0.651119  0.353856  0.522469   0.961378   \n",
       "MOT16-05  0.633898  0.749704  0.549082  0.688304   0.939795   \n",
       "MOT16-09  0.525115  0.649419  0.440751  0.663286   0.977310   \n",
       "MOT16-11  0.683269  0.753288  0.625159  0.801717   0.966032   \n",
       "OVERALL   0.556888  0.699726  0.462480  0.635038   0.960803   \n",
       "\n",
       "          num_unique_objects  mostly_tracked  partially_tracked  mostly_lost  \\\n",
       "MOT16-02                  62              12                 37           13   \n",
       "MOT16-05                 133              54                 67           12   \n",
       "MOT16-09                  26              13                 12            1   \n",
       "MOT16-11                  75              44                 24            7   \n",
       "OVERALL                  296             123                140           33   \n",
       "\n",
       "          num_false_positives  num_misses  num_switches  num_fragmentations  \\\n",
       "MOT16-02                  390        8873           130                 210   \n",
       "MOT16-05                  305        2156           283                 149   \n",
       "MOT16-09                   82        1793            49                  76   \n",
       "MOT16-11                  266        1871           136                  90   \n",
       "OVERALL                  1043       14693           598                 525   \n",
       "\n",
       "              mota      motp  \n",
       "MOT16-02  0.494484  0.090339  \n",
       "MOT16-05  0.603296  0.141942  \n",
       "MOT16-09  0.638685  0.082643  \n",
       "MOT16-11  0.759114  0.082754  \n",
       "OVERALL   0.594277  0.096641  "
      ]
     },
     "execution_count": 12,
     "metadata": {},
     "output_type": "execute_result"
    }
   ],
   "source": [
    "tracker = LongTermReIDHungarianTracker(patience=20, obj_detect=None)\n",
    "run_tracker(val_sequences, db=train_db, tracker=tracker, output_dir=None)"
   ]
  },
  {
   "cell_type": "markdown",
   "metadata": {
    "id": "CBeSJrY87ot7"
   },
   "source": [
    "## Exercise Part II - Building a tracker based on Neural Message Passing\n",
    "\n",
    "Our ``LongTermReIDHungarianTracker`` is still limited when compared to current modern trackers. \n",
    "\n",
    "Firstly, it relies solely on appearance to predict similarity scores between objectes. This can be problematic whenever appearance alone may not discriminative, and it'd be best to also take into account object position and size attributes. Secondly, our tracker can only account for pairwise similarities among objects. Ideally, we would like it to also consider higher-order information.\n",
    "\n",
    "To address these limitations. We will now build a tracker that will combine both apperance and position information with a Message Passing Neural Network, inspired by the approach presented in [Learning a Neural Solver for Multiple Object Tracking, CVPR 2020](https://arxiv.org/abs/1912.07515)\n",
    "\n",
    "The overall idea will be to build, for every tracking step, a bipartite graph containing two sets of nodes: past tracks, and detections in the current frame. We will initialize node features with ReID embeddings, and edge features with relative position features and ReID distance. We will use an MPN to refine these edge embeddings. The learning task will be to classify the edge embeddings in this graph, which is equivalent to predicting the entries of our data association similarity matrix.\n"
   ]
  },
  {
   "cell_type": "markdown",
   "metadata": {
    "id": "eVbnOrlPqWRB"
   },
   "source": [
    "### Building an MPN for Bipartite Graphs\n",
    "\n",
    "We will first build a Neural Message Passing layer based on the Graph Networks framework introduced in [Relational inductive biases, deep learning, and graph networks, arXiv 2020](https://arxiv.org/abs/1806.01261), as explained in the *A More General Framework* slides of [Lecture 5](https://www.moodle.tum.de/pluginfile.php/2928927/mod_resource/content/1/5.MOT2.pdf) (slides 70 to 75).\n",
    "\n",
    "We will be using a bipartite graph, i.e., we will have two sets of nodes $A$ (past tracks), and $B$ (detections), and our set of edges will be $A\\times B$. That is, we will connect every pair of past tracks and detections.\n",
    "\n",
    "We will have initial node features (i.e. reid embeddings) matrices: $X_A$ and $X_B$ and an initial edge features tensor $E$.\n",
    "\n",
    "$X_A$ and $X_B$ have shape $|A|\\times \\text{node\\_dim}$ and $|B|\\times \\text{node\\_dim}$, respectively.\n",
    "\n",
    "$E$ has shape $|A| \\times |B| \\times \\text{edge\\_dim}$. Its $(i, j)$ entry contains the edge features of node $i$ in $A$ and node $j$ in $B$.\n",
    "\n",
    "With the given layer, we will produce new node feature matrices $X_A'$ and $X_B'$ and edge features $E'$ with the same dimensions. \n",
    "Please refer to the formulas in the slides and figure how to apply them in this setting.\n",
    "\n",
    "You are asked to implement both the node and edge update steps in the class below\n",
    "\n",
    "**NOTE 1**: Working with a bipartite graph allows us to vectorize all operations in the formulas in a straightforward manner (keep in mind that we store edge features in a matrix). Given a node in $A$, it is connected to all nodes in $B$.\n",
    "\n",
    "**NOTE 2**: You do not need to care about batching several graphs. This implementation will only work with a single graph at a time."
   ]
  },
  {
   "cell_type": "code",
   "execution_count": 13,
   "metadata": {
    "id": "4q2I6Luo7ot7"
   },
   "outputs": [],
   "source": [
    "from torch import nn\n",
    "\n",
    "class BipartiteNeuralMessagePassingLayer(nn.Module):    \n",
    "    def __init__(self, node_dim, edge_dim, dropout=0.):\n",
    "        super().__init__()\n",
    "\n",
    "        edge_in_dim  = 2*node_dim + 2*edge_dim # 2*edge_dim since we always concatenate initial edge features\n",
    "        self.edge_mlp = nn.Sequential(*[nn.Linear(edge_in_dim, edge_dim), nn.ReLU(), nn.Dropout(dropout), \n",
    "                                    nn.Linear(edge_dim, edge_dim), nn.ReLU(), nn.Dropout(dropout)])\n",
    "\n",
    "        node_in_dim  = node_dim + edge_dim\n",
    "        self.node_mlp = nn.Sequential(*[nn.Linear(node_in_dim, node_dim), nn.ReLU(), nn.Dropout(dropout),  \n",
    "                                        nn.Linear(node_dim, node_dim), nn.ReLU(), nn.Dropout(dropout)])\n",
    "\n",
    "    def edge_update(self, edge_embeds, nodes_a_embeds, nodes_b_embeds):\n",
    "        \"\"\"\n",
    "        Node-to-edge updates, as descibed in slide 71, lecture 5.\n",
    "        Args:\n",
    "            edge_embeds: torch.Tensor with shape (|A|, |B|, 2 x edge_dim) \n",
    "            nodes_a_embeds: torch.Tensor with shape (|A|, node_dim)\n",
    "            nodes_a_embeds: torch.Tensor with shape (|B|, node_dim)\n",
    "            \n",
    "        returns:\n",
    "            updated_edge_feats = torch.Tensor with shape (|A|, |B|, edge_dim) \n",
    "        \"\"\"\n",
    "        \n",
    "        n_nodes_a, n_nodes_b, _  = edge_embeds.shape\n",
    "        \n",
    "        ########################\n",
    "        #### TODO starts\n",
    "        ########################\n",
    "        \n",
    "        nodes_a_in = nodes_a_embeds.unsqueeze(1).expand(-1, n_nodes_b, -1)\n",
    "        nodes_b_in = nodes_b_embeds.unsqueeze(0).expand(n_nodes_a, -1, -1)\n",
    "        edge_in = torch.cat((edge_embeds, nodes_a_in, nodes_b_in), dim=-1)\n",
    "        \n",
    "        ########################\n",
    "        #### TODO ends\n",
    "        ########################\n",
    "        \n",
    "        \n",
    "        return self.edge_mlp(edge_in)\n",
    "\n",
    "    def node_update(self, edge_embeds, nodes_a_embeds, nodes_b_embeds):\n",
    "        \"\"\"\n",
    "        Edge-to-node updates, as descibed in slide 75, lecture 5.\n",
    "\n",
    "        Args:\n",
    "            edge_embeds: torch.Tensor with shape (|A|, |B|, edge_dim) \n",
    "            nodes_a_embeds: torch.Tensor with shape (|A|, node_dim)\n",
    "            nodes_b_embeds: torch.Tensor with shape (|B|, node_dim)\n",
    "            \n",
    "        returns:\n",
    "            tuple(\n",
    "                updated_nodes_a_embeds: torch.Tensor with shape (|A|, node_dim),\n",
    "                updated_nodes_b_embeds: torch.Tensor with shape (|B|, node_dim)\n",
    "                )\n",
    "        \"\"\"\n",
    "        \n",
    "        ########################\n",
    "        #### TODO starts\n",
    "        ########################\n",
    "        \n",
    "        # NOTE: Use 'sum' as aggregation function\n",
    "\n",
    "        mssgs_a = edge_embeds.sum(dim=1)\n",
    "        nodes_a_in = torch.cat((nodes_a_embeds, mssgs_a), dim=-1)\n",
    "\n",
    "        mssgs_b = edge_embeds.sum(dim=0)\n",
    "        nodes_b_in = torch.cat((nodes_b_embeds, mssgs_b), dim=-1)\n",
    "\n",
    "        \n",
    "        ########################\n",
    "        #### TODO ends\n",
    "        ########################\n",
    "\n",
    "        nodes_a = self.node_mlp(nodes_a_in)\n",
    "        nodes_b = self.node_mlp(nodes_b_in)\n",
    "\n",
    "        return nodes_a, nodes_b\n",
    "\n",
    "    def forward(self, edge_embeds, nodes_a_embeds, nodes_b_embeds):\n",
    "        edge_embeds_latent = self.edge_update(edge_embeds, nodes_a_embeds, nodes_b_embeds)\n",
    "        nodes_a_latent, nodes_b_latent = self.node_update(edge_embeds_latent, nodes_a_embeds, nodes_b_embeds)\n",
    "\n",
    "        return edge_embeds_latent, nodes_a_latent, nodes_b_latent"
   ]
  },
  {
   "cell_type": "markdown",
   "metadata": {
    "id": "F2sPoUo07ot8"
   },
   "source": [
    "## Building the entire network to predict similarities\n",
    "We now build the network that generates initial node and edge features, performs neural message passing, and classifies edges in order to produce the final costs that we will use for data association.\n",
    "\n",
    "You need to implement the method that computes the initial edge features. You can can follow [1] and, given a two bounding boxes $(x_i, y_i, w_i, h_i)$ and  $(x_j, y_j, w_j, h_j)$ and timestamps $t_i$ and $t_j$, compute an initial 5-dimensional edge feature vector as:\n",
    "$$ E_(i, j) = \\left (\\frac{2(x_j - x_i)}{h_i + h_j}, \\frac{2(y_j - y_i)}{h_i + h_j}, \\log{\\frac{h_i}{h_j}}, \\log{\\frac{w_i}{w_j}}, t_j - t_i \\right )$$\n",
    "\n",
    "\n",
    "Feel free to engineer your own features (e.g. use IoU, etc.)"
   ]
  },
  {
   "cell_type": "code",
   "execution_count": null,
   "metadata": {
    "scrolled": false
   },
   "outputs": [],
   "source": [
    "import torch\n",
    "\n",
    "t1 = torch.randint(1, 5, (2,4))\n",
    "print(t1)\n",
    "t2 = torch.cat([torch.zeros(t1.shape[0], 2), t1[:,2:]], dim=1)\n",
    "t1 + t2"
   ]
  },
  {
   "cell_type": "code",
   "execution_count": 42,
   "metadata": {
    "id": "nF7apF9C7ot8"
   },
   "outputs": [],
   "source": [
    "from torch.nn import functional as F\n",
    "from torchvision.ops import box_iou\n",
    "\n",
    "class AssignmentSimilarityNet(nn.Module):\n",
    "    def __init__(self, reid_network, node_dim, edge_dim, reid_dim, edges_in_dim, num_steps, dropout=0.):\n",
    "        super().__init__()\n",
    "        self.reid_network = reid_network\n",
    "        self.graph_net = BipartiteNeuralMessagePassingLayer(node_dim=node_dim, edge_dim=edge_dim, dropout=dropout)\n",
    "        self.num_steps = num_steps\n",
    "        self.cnn_linear = nn.Linear(reid_dim, node_dim)\n",
    "        self.edge_in_mlp = nn.Sequential(*[nn.Linear(edges_in_dim, edge_dim), nn.ReLU(), nn.Dropout(dropout), nn.Linear(edge_dim, edge_dim), nn.ReLU(),nn.Dropout(dropout)])\n",
    "        self.classifier = nn.Sequential(*[nn.Linear(edge_dim, edge_dim), nn.ReLU(), nn.Linear(edge_dim, 1)])\n",
    "        \n",
    "    def iou(self, t, c):\n",
    "        t2 = torch.cat([torch.zeros(t.shape[0], 2).cuda(), t[:,2:]], dim=1)\n",
    "        t = t + t2\n",
    "        c2 = torch.cat([torch.zeros(c.shape[0], 2).cuda(), c[:,2:]], dim=1)\n",
    "        c = c + c2\n",
    "        return box_iou(t, c)\n",
    "        \n",
    "    \n",
    "    def compute_edge_feats(self, track_coords, current_coords, track_t, curr_t):    \n",
    "        \"\"\"\n",
    "        Computes initial edge feature tensor\n",
    "\n",
    "        Args:\n",
    "            track_coords: track's frame box coordinates, given by top-left and bottom-right coordinates\n",
    "                          torch.Tensor with shape (num_tracks, 4)\n",
    "            current_coords: current frame box coordinates, given by top-left and bottom-right coordinates\n",
    "                            has shape (num_boxes, 4)\n",
    "                          \n",
    "            track_t: track's timestamps, torch.Tensor with with shape (num_tracks, )\n",
    "            curr_t: current frame's timestamps, torch.Tensor withwith shape (num_boxes,)        \n",
    "            \n",
    "        \n",
    "        Returns:\n",
    "            tensor with shape (num_trakcs, num_boxes, 5) containing pairwise\n",
    "            position and time difference features \n",
    "        \"\"\"\n",
    "\n",
    "        ########################\n",
    "        #### TODO starts\n",
    "        ########################\n",
    "        \n",
    "        # NOTE 1: we recommend you to use box centers to compute distances\n",
    "        # in the x and y coordinates.\n",
    "\n",
    "        # NOTE 2: Check out the  code inside train_one_epoch function and \n",
    "        # LongTrackTrainingDataset class a few cells below to debug this\n",
    "        \n",
    "        t = torch.cat([track_coords, torch.unsqueeze(track_t, 1)], dim=1)\n",
    "        c = torch.cat([current_coords, torch.unsqueeze(curr_t, 1)], dim=1)\n",
    "        \n",
    "        ct_dif = t.unsqueeze(1) - c\n",
    "        ct_sum = t.unsqueeze(1) + c\n",
    "        ct_div = t.unsqueeze(1) / c\n",
    "\n",
    "        edge_feats = torch.cat([2 * torch.unsqueeze(ct_dif[:,:,0],-1) / torch.unsqueeze(ct_sum[:,:,3], -1), \n",
    "                                2 * torch.unsqueeze(ct_dif[:,:,1],-1) / torch.unsqueeze(ct_sum[:,:,3],-1), \n",
    "                                torch.log(torch.unsqueeze(ct_div[:,:,3] + 1e-4,-1)), \n",
    "                                torch.log(torch.unsqueeze(ct_div[:,:,2] + 1e-4, -1)),\n",
    "                                torch.unsqueeze(self.iou(track_coords,current_coords), -1),\n",
    "                                torch.unsqueeze(ct_dif[:,:,4], -1)], dim=-1)\n",
    "\n",
    "\n",
    "#         print(\"edge_feats: \", edge_feats.shape)\n",
    "        \n",
    "        ########################\n",
    "        #### TODO ends\n",
    "        ########################\n",
    "\n",
    "        return edge_feats # has shape (num_trakcs, num_boxes, 5)\n",
    "\n",
    "\n",
    "    def forward(self, track_app, current_app, track_coords, current_coords, track_t, curr_t):\n",
    "        \"\"\"\n",
    "        Args:\n",
    "            track_app: track's reid embeddings, torch.Tensor with shape (num_tracks, 512)\n",
    "            current_app: current frame detections' reid embeddings, torch.Tensor with shape (num_boxes, 512)\n",
    "            track_coords: track's frame box coordinates, given by top-left and bottom-right coordinates\n",
    "                          torch.Tensor with shape (num_tracks, 4)\n",
    "            current_coords: current frame box coordinates, given by top-left and bottom-right coordinates\n",
    "                            has shape (num_boxes, 4)\n",
    "                          \n",
    "            track_t: track's timestamps, torch.Tensor with with shape (num_tracks, )\n",
    "            curr_t: current frame's timestamps, torch.Tensor withwith shape (num_boxes,)\n",
    "            \n",
    "        Returns:\n",
    "            classified edges: torch.Tensor with shape (num_steps, num_tracks, num_boxes),\n",
    "                             containing at entry (step, i, j) the unnormalized probability that track i and \n",
    "                             detection j are a match, according to the classifier at the given neural message passing step\n",
    "        \"\"\"\n",
    "        \n",
    "        # Get initial edge embeddings to\n",
    "        dist_reid = cosine_distance(track_app, current_app)\n",
    "        pos_edge_feats = self.compute_edge_feats(track_coords, current_coords, track_t, curr_t)\n",
    "        edge_feats = torch.cat((pos_edge_feats, dist_reid.unsqueeze(-1)), dim=-1)\n",
    "        edge_embeds = self.edge_in_mlp(edge_feats)\n",
    "        initial_edge_embeds = edge_embeds.clone()\n",
    "    \n",
    "        # Get initial node embeddings, reduce dimensionality from 512 to node_dim\n",
    "        track_embeds = F.relu(self.cnn_linear(track_app))\n",
    "        curr_embeds =F.relu(self.cnn_linear(current_app))\n",
    "\n",
    "        classified_edges = []\n",
    "        for _ in range(self.num_steps):\n",
    "            edge_embeds = torch.cat((edge_embeds, initial_edge_embeds), dim=-1)\n",
    "            edge_embeds, track_embeds, curr_embeds = self.graph_net(edge_embeds=edge_embeds, \n",
    "                                                                    nodes_a_embeds=track_embeds, \n",
    "                                                                    nodes_b_embeds=curr_embeds)\n",
    "\n",
    "            classified_edges.append(self.classifier(edge_embeds))\n",
    "\n",
    "        return torch.stack(classified_edges).squeeze(-1)"
   ]
  },
  {
   "cell_type": "markdown",
   "metadata": {
    "id": "7Cdr6YDY7ot8"
   },
   "source": [
    "## Putting everything together"
   ]
  },
  {
   "cell_type": "markdown",
   "metadata": {
    "id": "Xp3cC6j57ot9"
   },
   "source": [
    "Finally, we incorporate our ``AssignmentSimilarityNet`` into our tracker. We can keep everything as in ``LongTermReIDHungarianTracker`` except for the distance computation, which is now directly obtained via a forward pass through AssignmentSimilarityNet."
   ]
  },
  {
   "cell_type": "code",
   "execution_count": 43,
   "metadata": {
    "id": "6GA99XOv7ot9"
   },
   "outputs": [],
   "source": [
    "_UNMATCHED_COST=255\n",
    "class MPNTracker(LongTermReIDHungarianTracker):\n",
    "    def __init__(self, assign_net, *args, **kwargs):\n",
    "        self.assign_net = assign_net\n",
    "        super().__init__(*args, **kwargs)\n",
    "        \n",
    "    def data_association(self, boxes, scores, pred_features):  \n",
    "        if self.tracks:  \n",
    "            track_boxes = torch.stack([t.box for t in self.tracks], axis=0).cuda()\n",
    "            track_features = torch.stack([t.get_feature() for t in self.tracks], axis=0).cuda()\n",
    "            \n",
    "            # Hacky way to recover the timestamps of boxes and tracks\n",
    "            curr_t = self.im_index * torch.ones((pred_features.shape[0],)).cuda()\n",
    "            track_t = torch.as_tensor([self.im_index - t.inactive - 1 for t in self.tracks]).cuda()\n",
    "\n",
    "            ########################\n",
    "            #### TODO starts\n",
    "            ########################\n",
    "            \n",
    "            # Do a forward pass through self.assign_net to obtain our costs.\n",
    "            # Note: self.assign_net will return unnormalized probabilities. \n",
    "            # Make sure to apply the sigmoid function to them!\n",
    "            \n",
    "            pred_sim = self.assign_net.forward(track_app = track_features.cuda(), \n",
    "                                     current_app = pred_features.cuda(), \n",
    "                                     track_coords = track_boxes.cuda(),\n",
    "                                     current_coords=boxes.cuda(),\n",
    "                                     track_t = track_t,\n",
    "                                     curr_t = curr_t)\n",
    "            \n",
    "            pred_sim = torch.sigmoid(pred_sim).detach().cpu().numpy()\n",
    "            \n",
    "\n",
    "            ########################\n",
    "            #### TODO ends\n",
    "            ########################\n",
    "\n",
    "            pred_sim = pred_sim[-1]  # Use predictions at last message passing step\n",
    "            distance = (1- pred_sim) \n",
    "            \n",
    "            # Do not allow mataches when sim < 0.5, to avoid low-confident associations\n",
    "            distance = np.where(pred_sim < 0.5, _UNMATCHED_COST, distance) \n",
    "\n",
    "            # Perform Hungarian matching.\n",
    "            row_idx, col_idx = linear_assignment(distance)            \n",
    "            self.update_tracks(row_idx, col_idx,distance, boxes, scores, pred_features)\n",
    "\n",
    "            \n",
    "        else:\n",
    "            # No tracks exist.\n",
    "            self.add(boxes, scores, pred_features)"
   ]
  },
  {
   "cell_type": "markdown",
   "metadata": {
    "id": "cyzMUfYE7ot9"
   },
   "source": [
    "## Training and evaluating our model\n",
    "\n",
    "We provide all boilerplate code for training our neural message passing based\n",
    "tracker, as well as evaluating. \n",
    "\n",
    "Under the hood, we are sampling frames randomly from our training sequences, and then sampling boxes from past frames as past_tracks to generate our \n",
    "training\n",
    "data. Check out `LongTrackTrainingDataset` for details.\n",
    "\n",
    "We train the model with a weighted cross-entropy loss\n",
    "to account for the class imbalance. Check out `train_one_epoch` if you're \n",
    "interested.\n",
    "\n",
    "No need to write any code from your side here!\n"
   ]
  },
  {
   "cell_type": "code",
   "execution_count": 46,
   "metadata": {
    "id": "kuYy1IMK7ot9"
   },
   "outputs": [],
   "source": [
    "from gnn.dataset import LongTrackTrainingDataset\n",
    "from torch.utils.data import DataLoader\n",
    "from gnn.trainer import train_one_epoch\n",
    "\n",
    "MAX_PATIENCE = 20\n",
    "MAX_EPOCHS = 15\n",
    "EVAL_FREQ = 1\n",
    "\n",
    "\n",
    "# Define our model, and init \n",
    "assign_net = AssignmentSimilarityNet(reid_network=None, # Not needed since we work with precomputed features\n",
    "                                     node_dim=32, \n",
    "                                     edge_dim=64, \n",
    "                                     reid_dim=512, \n",
    "                                     edges_in_dim=7, \n",
    "                                     num_steps=10).cuda()\n",
    "\n",
    "# We only keep two sequences for validation. You can\n",
    "dataset = LongTrackTrainingDataset(dataset='MOT16-train_wo_val2', \n",
    "                                   db=train_db, \n",
    "                                   root_dir= osp.join(root_dir, 'data/MOT16'),\n",
    "                                   max_past_frames = MAX_PATIENCE,\n",
    "                                   vis_threshold=0.25)\n",
    "\n",
    "data_loader = DataLoader(dataset, batch_size=8, collate_fn = lambda x: x, \n",
    "                         shuffle=True, num_workers=2, drop_last=True)\n",
    "device = torch.device('cuda')\n",
    "optimizer = torch.optim.Adam(assign_net.parameters(), lr=0.0001)\n",
    "scheduler = torch.optim.lr_scheduler.StepLR(optimizer, step_size=5)"
   ]
  },
  {
   "cell_type": "markdown",
   "metadata": {
    "id": "FxiIUDGn2_Nq"
   },
   "source": [
    "We only leave 2 sequences for validation in order to maximize \n",
    "the amount of training data. For your convenience, here are the\n",
    " LongTermReIDTracker results on them. Your validation IDF1 scores should show an improvement over them.\n",
    "```\n",
    "\n",
    "          IDF1   IDP   IDR  Rcll  Prcn  GT MT PT ML  FP    FN IDs   FM  MOTA  MOTP\n",
    "MOT16-02 45.9% 65.1% 35.4% 52.2% 96.1%  62 12 37 13 390  8873 130  210 49.4% 0.090\n",
    "MOT16-11 68.3% 75.3% 62.5% 80.2% 96.6%  75 44 24  7 266  1871 136   90 75.9% 0.083\n",
    "OVERALL  54.3% 69.6% 44.5% 61.7% 96.3% 137 56 61 20 656 10744 266  300 58.4% 0.087\n",
    "```\n",
    "\n"
   ]
  },
  {
   "cell_type": "markdown",
   "metadata": {
    "id": "V7tCJJ3V3Oaa"
   },
   "source": [
    "Let's start training!\n",
    "\n",
    "Note that we have observed quite a lot of noise in validation scores among epochs and runs. This can be explained due to the small size of our training and\n",
    "validation sets, that's why we perform early stopping to obtain the best performing model on validation. In addition, changing the experiment seed and/or relaunching the training might help in case you are suspecting that noise might be influencing your scores. "
   ]
  },
  {
   "cell_type": "code",
   "execution_count": 47,
   "metadata": {
    "id": "oQHiwbVr7ot9",
    "scrolled": false
   },
   "outputs": [
    {
     "name": "stdout",
     "output_type": "stream",
     "text": [
      "-------- EPOCH  1 --------\n"
     ]
    },
    {
     "name": "stderr",
     "output_type": "stream",
     "text": [
      "101it [00:13,  8.11it/s]"
     ]
    },
    {
     "name": "stdout",
     "output_type": "stream",
     "text": [
      "Iter 100. Loss: 1.595. Accuracy: 0.925. Recall: 0.000. Precision: 0.000\n"
     ]
    },
    {
     "name": "stderr",
     "output_type": "stream",
     "text": [
      "201it [00:25,  8.02it/s]"
     ]
    },
    {
     "name": "stdout",
     "output_type": "stream",
     "text": [
      "Iter 200. Loss: 1.039. Accuracy: 0.926. Recall: 0.470. Precision: 0.316\n"
     ]
    },
    {
     "name": "stderr",
     "output_type": "stream",
     "text": [
      "301it [00:39,  7.63it/s]"
     ]
    },
    {
     "name": "stdout",
     "output_type": "stream",
     "text": [
      "Iter 300. Loss: 0.497. Accuracy: 0.952. Recall: 0.941. Precision: 0.649\n"
     ]
    },
    {
     "name": "stderr",
     "output_type": "stream",
     "text": [
      "401it [00:51,  7.91it/s]"
     ]
    },
    {
     "name": "stdout",
     "output_type": "stream",
     "text": [
      "Iter 400. Loss: 0.257. Accuracy: 0.980. Recall: 0.980. Precision: 0.827\n"
     ]
    },
    {
     "name": "stderr",
     "output_type": "stream",
     "text": [
      "476it [01:01,  7.72it/s]\n"
     ]
    },
    {
     "name": "stdout",
     "output_type": "stream",
     "text": [
      "Tracking: MOT16-02\n",
      "Tracks found: 849\n",
      "Runtime for MOT16-02: 8.0 s.\n",
      "Tracking: MOT16-11\n",
      "Tracks found: 114\n",
      "Runtime for MOT16-11: 6.7 s.\n",
      "Runtime for all sequences: 14.7 s.\n",
      "          IDF1   IDP   IDR  Rcll  Prcn  GT MT PT ML  FP    FN IDs   FM  MOTA  MOTP\n",
      "MOT16-02 43.8% 62.2% 33.8% 52.2% 96.1%  62 12 37 13 390  8873 690  210 46.4% 0.089\n",
      "MOT16-11 67.2% 74.1% 61.5% 80.2% 96.6%  75 44 24  7 266  1871 125   90 76.0% 0.083\n",
      "OVERALL  52.6% 67.4% 43.1% 61.7% 96.3% 137 56 61 20 656 10744 815  300 56.4% 0.086\n",
      "-------- EPOCH  2 --------\n"
     ]
    },
    {
     "name": "stderr",
     "output_type": "stream",
     "text": [
      "101it [00:13,  7.90it/s]"
     ]
    },
    {
     "name": "stdout",
     "output_type": "stream",
     "text": [
      "Iter 100. Loss: 0.123. Accuracy: 0.987. Recall: 0.988. Precision: 0.879\n"
     ]
    },
    {
     "name": "stderr",
     "output_type": "stream",
     "text": [
      "201it [00:26,  7.99it/s]"
     ]
    },
    {
     "name": "stdout",
     "output_type": "stream",
     "text": [
      "Iter 200. Loss: 0.108. Accuracy: 0.987. Recall: 0.985. Precision: 0.863\n"
     ]
    },
    {
     "name": "stderr",
     "output_type": "stream",
     "text": [
      "301it [00:38,  7.80it/s]"
     ]
    },
    {
     "name": "stdout",
     "output_type": "stream",
     "text": [
      "Iter 300. Loss: 0.087. Accuracy: 0.990. Recall: 0.991. Precision: 0.903\n"
     ]
    },
    {
     "name": "stderr",
     "output_type": "stream",
     "text": [
      "401it [00:51,  7.71it/s]"
     ]
    },
    {
     "name": "stdout",
     "output_type": "stream",
     "text": [
      "Iter 400. Loss: 0.077. Accuracy: 0.991. Recall: 0.992. Precision: 0.913\n"
     ]
    },
    {
     "name": "stderr",
     "output_type": "stream",
     "text": [
      "476it [01:01,  7.78it/s]\n"
     ]
    },
    {
     "name": "stdout",
     "output_type": "stream",
     "text": [
      "Tracking: MOT16-02\n",
      "Tracks found: 5687\n",
      "Runtime for MOT16-02: 9.6 s.\n",
      "Tracking: MOT16-11\n",
      "Tracks found: 109\n",
      "Runtime for MOT16-11: 6.8 s.\n",
      "Runtime for all sequences: 16.4 s.\n",
      "          IDF1   IDP   IDR  Rcll  Prcn  GT MT PT ML  FP    FN  IDs   FM  MOTA  MOTP\n",
      "MOT16-02 26.3% 37.4% 20.3% 52.2% 96.1%  62 12 37 13 390  8873 5300  223 21.6% 0.087\n",
      "MOT16-11 73.8% 81.3% 67.5% 80.2% 96.6%  75 44 24  7 266  1871   43   87 76.9% 0.083\n",
      "OVERALL  44.2% 56.6% 36.2% 61.7% 96.3% 137 56 61 20 656 10744 5343  310 40.2% 0.085\n",
      "-------- EPOCH  3 --------\n"
     ]
    },
    {
     "name": "stderr",
     "output_type": "stream",
     "text": [
      "101it [00:13,  7.76it/s]"
     ]
    },
    {
     "name": "stdout",
     "output_type": "stream",
     "text": [
      "Iter 100. Loss: 0.059. Accuracy: 0.993. Recall: 0.994. Precision: 0.922\n"
     ]
    },
    {
     "name": "stderr",
     "output_type": "stream",
     "text": [
      "201it [00:26,  7.74it/s]"
     ]
    },
    {
     "name": "stdout",
     "output_type": "stream",
     "text": [
      "Iter 200. Loss: 0.061. Accuracy: 0.994. Recall: 0.993. Precision: 0.929\n"
     ]
    },
    {
     "name": "stderr",
     "output_type": "stream",
     "text": [
      "301it [00:38,  7.91it/s]"
     ]
    },
    {
     "name": "stdout",
     "output_type": "stream",
     "text": [
      "Iter 300. Loss: 0.051. Accuracy: 0.994. Recall: 0.995. Precision: 0.939\n"
     ]
    },
    {
     "name": "stderr",
     "output_type": "stream",
     "text": [
      "401it [00:51,  8.14it/s]"
     ]
    },
    {
     "name": "stdout",
     "output_type": "stream",
     "text": [
      "Iter 400. Loss: 0.053. Accuracy: 0.995. Recall: 0.994. Precision: 0.941\n"
     ]
    },
    {
     "name": "stderr",
     "output_type": "stream",
     "text": [
      "476it [01:00,  7.84it/s]\n"
     ]
    },
    {
     "name": "stdout",
     "output_type": "stream",
     "text": [
      "Tracking: MOT16-02\n",
      "Tracks found: 100\n",
      "Runtime for MOT16-02: 7.7 s.\n",
      "Tracking: MOT16-11\n",
      "Tracks found: 84\n",
      "Runtime for MOT16-11: 6.8 s.\n",
      "Runtime for all sequences: 14.5 s.\n",
      "          IDF1   IDP   IDR  Rcll  Prcn  GT MT PT ML  FP    FN IDs   FM  MOTA  MOTP\n",
      "MOT16-02 47.9% 68.1% 37.0% 52.2% 96.1%  62 12 37 13 390  8873 110  214 49.6% 0.090\n",
      "MOT16-11 73.1% 80.6% 66.9% 80.2% 96.6%  75 44 24  7 266  1871  37   90 77.0% 0.083\n",
      "OVERALL  57.4% 73.6% 47.1% 61.7% 96.3% 137 56 61 20 656 10744 147  304 58.8% 0.087\n",
      "-------- EPOCH  4 --------\n"
     ]
    },
    {
     "name": "stderr",
     "output_type": "stream",
     "text": [
      "101it [00:12,  8.04it/s]"
     ]
    },
    {
     "name": "stdout",
     "output_type": "stream",
     "text": [
      "Iter 100. Loss: 0.042. Accuracy: 0.995. Recall: 0.996. Precision: 0.945\n"
     ]
    },
    {
     "name": "stderr",
     "output_type": "stream",
     "text": [
      "201it [00:25,  7.51it/s]"
     ]
    },
    {
     "name": "stdout",
     "output_type": "stream",
     "text": [
      "Iter 200. Loss: 0.059. Accuracy: 0.992. Recall: 0.990. Precision: 0.885\n"
     ]
    },
    {
     "name": "stderr",
     "output_type": "stream",
     "text": [
      "301it [00:38,  7.93it/s]"
     ]
    },
    {
     "name": "stdout",
     "output_type": "stream",
     "text": [
      "Iter 300. Loss: 0.051. Accuracy: 0.995. Recall: 0.991. Precision: 0.943\n"
     ]
    },
    {
     "name": "stderr",
     "output_type": "stream",
     "text": [
      "401it [00:51,  7.62it/s]"
     ]
    },
    {
     "name": "stdout",
     "output_type": "stream",
     "text": [
      "Iter 400. Loss: 0.038. Accuracy: 0.996. Recall: 0.995. Precision: 0.950\n"
     ]
    },
    {
     "name": "stderr",
     "output_type": "stream",
     "text": [
      "476it [01:00,  7.81it/s]\n"
     ]
    },
    {
     "name": "stdout",
     "output_type": "stream",
     "text": [
      "Tracking: MOT16-02\n",
      "Tracks found: 122\n",
      "Runtime for MOT16-02: 7.9 s.\n",
      "Tracking: MOT16-11\n",
      "Tracks found: 86\n",
      "Runtime for MOT16-11: 6.7 s.\n",
      "Runtime for all sequences: 14.7 s.\n",
      "          IDF1   IDP   IDR  Rcll  Prcn  GT MT PT ML  FP    FN IDs   FM  MOTA  MOTP\n",
      "MOT16-02 48.0% 68.2% 37.1% 52.2% 96.1%  62 12 37 13 390  8873 101  217 49.6% 0.094\n",
      "MOT16-11 72.8% 80.3% 66.6% 80.2% 96.6%  75 44 24  7 266  1871  38   90 76.9% 0.083\n",
      "OVERALL  57.3% 73.5% 47.0% 61.7% 96.3% 137 56 61 20 656 10744 139  307 58.8% 0.089\n",
      "-------- EPOCH  5 --------\n"
     ]
    },
    {
     "name": "stderr",
     "output_type": "stream",
     "text": [
      "101it [00:13,  7.81it/s]"
     ]
    },
    {
     "name": "stdout",
     "output_type": "stream",
     "text": [
      "Iter 100. Loss: 0.031. Accuracy: 0.997. Recall: 0.997. Precision: 0.972\n"
     ]
    },
    {
     "name": "stderr",
     "output_type": "stream",
     "text": [
      "201it [00:26,  7.95it/s]"
     ]
    },
    {
     "name": "stdout",
     "output_type": "stream",
     "text": [
      "Iter 200. Loss: 0.033. Accuracy: 0.998. Recall: 0.996. Precision: 0.974\n"
     ]
    },
    {
     "name": "stderr",
     "output_type": "stream",
     "text": [
      "301it [00:38,  7.59it/s]"
     ]
    },
    {
     "name": "stdout",
     "output_type": "stream",
     "text": [
      "Iter 300. Loss: 0.049. Accuracy: 0.996. Recall: 0.995. Precision: 0.955\n"
     ]
    },
    {
     "name": "stderr",
     "output_type": "stream",
     "text": [
      "401it [00:51,  7.74it/s]"
     ]
    },
    {
     "name": "stdout",
     "output_type": "stream",
     "text": [
      "Iter 400. Loss: 0.028. Accuracy: 0.998. Recall: 0.997. Precision: 0.979\n"
     ]
    },
    {
     "name": "stderr",
     "output_type": "stream",
     "text": [
      "476it [01:01,  7.77it/s]\n"
     ]
    },
    {
     "name": "stdout",
     "output_type": "stream",
     "text": [
      "Tracking: MOT16-02\n",
      "Tracks found: 94\n",
      "Runtime for MOT16-02: 7.7 s.\n",
      "Tracking: MOT16-11\n",
      "Tracks found: 80\n",
      "Runtime for MOT16-11: 6.7 s.\n",
      "Runtime for all sequences: 14.4 s.\n",
      "          IDF1   IDP   IDR  Rcll  Prcn  GT MT PT ML  FP    FN IDs   FM  MOTA  MOTP\n",
      "MOT16-02 46.5% 66.1% 35.9% 52.2% 96.1%  62 12 37 13 390  8873 103  213 49.6% 0.090\n",
      "MOT16-11 65.7% 72.4% 60.1% 80.2% 96.6%  75 44 24  7 266  1871  37   90 77.0% 0.083\n",
      "OVERALL  53.7% 68.8% 44.1% 61.7% 96.3% 137 56 61 20 656 10744 140  303 58.8% 0.087\n",
      "-------- EPOCH  6 --------\n"
     ]
    },
    {
     "name": "stderr",
     "output_type": "stream",
     "text": [
      "101it [00:13,  7.78it/s]"
     ]
    },
    {
     "name": "stdout",
     "output_type": "stream",
     "text": [
      "Iter 100. Loss: 0.029. Accuracy: 0.998. Recall: 0.997. Precision: 0.983\n"
     ]
    },
    {
     "name": "stderr",
     "output_type": "stream",
     "text": [
      "201it [00:26,  8.06it/s]"
     ]
    },
    {
     "name": "stdout",
     "output_type": "stream",
     "text": [
      "Iter 200. Loss: 0.026. Accuracy: 0.999. Recall: 0.998. Precision: 0.986\n"
     ]
    },
    {
     "name": "stderr",
     "output_type": "stream",
     "text": [
      "301it [00:39,  7.70it/s]"
     ]
    },
    {
     "name": "stdout",
     "output_type": "stream",
     "text": [
      "Iter 300. Loss: 0.026. Accuracy: 0.999. Recall: 0.997. Precision: 0.987\n"
     ]
    },
    {
     "name": "stderr",
     "output_type": "stream",
     "text": [
      "401it [00:51,  7.64it/s]"
     ]
    },
    {
     "name": "stdout",
     "output_type": "stream",
     "text": [
      "Iter 400. Loss: 0.031. Accuracy: 0.999. Recall: 0.997. Precision: 0.984\n"
     ]
    },
    {
     "name": "stderr",
     "output_type": "stream",
     "text": [
      "476it [01:01,  7.74it/s]\n"
     ]
    },
    {
     "name": "stdout",
     "output_type": "stream",
     "text": [
      "Tracking: MOT16-02\n",
      "Tracks found: 98\n",
      "Runtime for MOT16-02: 7.6 s.\n",
      "Tracking: MOT16-11\n",
      "Tracks found: 81\n",
      "Runtime for MOT16-11: 6.7 s.\n",
      "Runtime for all sequences: 14.3 s.\n",
      "          IDF1   IDP   IDR  Rcll  Prcn  GT MT PT ML  FP    FN IDs   FM  MOTA  MOTP\n",
      "MOT16-02 47.8% 67.9% 36.9% 52.2% 96.1%  62 12 37 13 390  8873 103  217 49.6% 0.094\n",
      "MOT16-11 67.1% 73.9% 61.4% 80.2% 96.6%  75 44 24  7 266  1871  38   90 76.9% 0.083\n",
      "OVERALL  55.1% 70.5% 45.1% 61.7% 96.3% 137 56 61 20 656 10744 141  307 58.8% 0.089\n",
      "-------- EPOCH  7 --------\n"
     ]
    },
    {
     "name": "stderr",
     "output_type": "stream",
     "text": [
      "101it [00:13,  8.02it/s]"
     ]
    },
    {
     "name": "stdout",
     "output_type": "stream",
     "text": [
      "Iter 100. Loss: 0.028. Accuracy: 0.999. Recall: 0.998. Precision: 0.987\n"
     ]
    },
    {
     "name": "stderr",
     "output_type": "stream",
     "text": [
      "201it [00:25,  7.99it/s]"
     ]
    },
    {
     "name": "stdout",
     "output_type": "stream",
     "text": [
      "Iter 200. Loss: 0.028. Accuracy: 0.999. Recall: 0.997. Precision: 0.985\n"
     ]
    },
    {
     "name": "stderr",
     "output_type": "stream",
     "text": [
      "301it [00:38,  7.77it/s]"
     ]
    },
    {
     "name": "stdout",
     "output_type": "stream",
     "text": [
      "Iter 300. Loss: 0.026. Accuracy: 0.999. Recall: 0.998. Precision: 0.984\n"
     ]
    },
    {
     "name": "stderr",
     "output_type": "stream",
     "text": [
      "401it [00:51,  7.65it/s]"
     ]
    },
    {
     "name": "stdout",
     "output_type": "stream",
     "text": [
      "Iter 400. Loss: 0.026. Accuracy: 0.998. Recall: 0.996. Precision: 0.985\n"
     ]
    },
    {
     "name": "stderr",
     "output_type": "stream",
     "text": [
      "476it [01:01,  7.79it/s]\n"
     ]
    },
    {
     "name": "stdout",
     "output_type": "stream",
     "text": [
      "Tracking: MOT16-02\n",
      "Tracks found: 109\n",
      "Runtime for MOT16-02: 7.6 s.\n",
      "Tracking: MOT16-11\n",
      "Tracks found: 82\n",
      "Runtime for MOT16-11: 6.7 s.\n",
      "Runtime for all sequences: 14.2 s.\n",
      "          IDF1   IDP   IDR  Rcll  Prcn  GT MT PT ML  FP    FN IDs   FM  MOTA  MOTP\n",
      "MOT16-02 48.2% 68.5% 37.2% 52.2% 96.1%  62 12 37 13 390  8873 103  214 49.6% 0.090\n",
      "MOT16-11 67.7% 74.6% 61.9% 80.2% 96.6%  75 44 24  7 266  1871  35   90 77.0% 0.083\n",
      "OVERALL  55.5% 71.2% 45.5% 61.7% 96.3% 137 56 61 20 656 10744 138  304 58.8% 0.087\n",
      "-------- EPOCH  8 --------\n"
     ]
    },
    {
     "name": "stderr",
     "output_type": "stream",
     "text": [
      "101it [00:13,  7.85it/s]"
     ]
    },
    {
     "name": "stdout",
     "output_type": "stream",
     "text": [
      "Iter 100. Loss: 0.028. Accuracy: 0.999. Recall: 0.997. Precision: 0.986\n"
     ]
    },
    {
     "name": "stderr",
     "output_type": "stream",
     "text": [
      "201it [00:25,  7.98it/s]"
     ]
    },
    {
     "name": "stdout",
     "output_type": "stream",
     "text": [
      "Iter 200. Loss: 0.031. Accuracy: 0.998. Recall: 0.997. Precision: 0.982\n"
     ]
    },
    {
     "name": "stderr",
     "output_type": "stream",
     "text": [
      "301it [00:38,  7.78it/s]"
     ]
    },
    {
     "name": "stdout",
     "output_type": "stream",
     "text": [
      "Iter 300. Loss: 0.025. Accuracy: 0.999. Recall: 0.997. Precision: 0.987\n"
     ]
    },
    {
     "name": "stderr",
     "output_type": "stream",
     "text": [
      "401it [00:51,  7.96it/s]"
     ]
    },
    {
     "name": "stdout",
     "output_type": "stream",
     "text": [
      "Iter 400. Loss: 0.022. Accuracy: 0.999. Recall: 0.998. Precision: 0.989\n"
     ]
    },
    {
     "name": "stderr",
     "output_type": "stream",
     "text": [
      "476it [01:01,  7.76it/s]\n"
     ]
    },
    {
     "name": "stdout",
     "output_type": "stream",
     "text": [
      "Tracking: MOT16-02\n",
      "Tracks found: 80\n",
      "Runtime for MOT16-02: 7.6 s.\n",
      "Tracking: MOT16-11\n",
      "Tracks found: 79\n",
      "Runtime for MOT16-11: 6.6 s.\n",
      "Runtime for all sequences: 14.2 s.\n",
      "          IDF1   IDP   IDR  Rcll  Prcn  GT MT PT ML  FP    FN IDs   FM  MOTA  MOTP\n",
      "MOT16-02 45.5% 64.6% 35.1% 52.2% 96.1%  62 11 38 13 390  8873 104  223 49.6% 0.099\n",
      "MOT16-11 65.5% 72.2% 59.9% 80.2% 96.6%  75 44 24  7 266  1871  39   90 76.9% 0.083\n",
      "OVERALL  53.0% 67.9% 43.5% 61.7% 96.3% 137 55 62 20 656 10744 143  313 58.8% 0.092\n",
      "-------- EPOCH  9 --------\n"
     ]
    },
    {
     "name": "stderr",
     "output_type": "stream",
     "text": [
      "101it [00:13,  7.71it/s]"
     ]
    },
    {
     "name": "stdout",
     "output_type": "stream",
     "text": [
      "Iter 100. Loss: 0.029. Accuracy: 0.998. Recall: 0.996. Precision: 0.983\n"
     ]
    },
    {
     "name": "stderr",
     "output_type": "stream",
     "text": [
      "201it [00:26,  7.97it/s]"
     ]
    },
    {
     "name": "stdout",
     "output_type": "stream",
     "text": [
      "Iter 200. Loss: 0.029. Accuracy: 0.999. Recall: 0.997. Precision: 0.984\n"
     ]
    },
    {
     "name": "stderr",
     "output_type": "stream",
     "text": [
      "301it [00:39,  8.03it/s]"
     ]
    },
    {
     "name": "stdout",
     "output_type": "stream",
     "text": [
      "Iter 300. Loss: 0.022. Accuracy: 0.999. Recall: 0.999. Precision: 0.989\n"
     ]
    },
    {
     "name": "stderr",
     "output_type": "stream",
     "text": [
      "401it [00:52,  7.59it/s]"
     ]
    },
    {
     "name": "stdout",
     "output_type": "stream",
     "text": [
      "Iter 400. Loss: 0.023. Accuracy: 0.999. Recall: 0.998. Precision: 0.987\n"
     ]
    },
    {
     "name": "stderr",
     "output_type": "stream",
     "text": [
      "476it [01:01,  7.72it/s]\n"
     ]
    },
    {
     "name": "stdout",
     "output_type": "stream",
     "text": [
      "Tracking: MOT16-02\n",
      "Tracks found: 84\n",
      "Runtime for MOT16-02: 7.7 s.\n",
      "Tracking: MOT16-11\n",
      "Tracks found: 79\n",
      "Runtime for MOT16-11: 6.5 s.\n",
      "Runtime for all sequences: 14.2 s.\n",
      "          IDF1   IDP   IDR  Rcll  Prcn  GT MT PT ML  FP    FN IDs   FM  MOTA  MOTP\n",
      "MOT16-02 45.9% 65.2% 35.4% 52.2% 96.1%  62 11 38 13 390  8873 103  220 49.6% 0.096\n",
      "MOT16-11 66.1% 72.9% 60.5% 80.2% 96.6%  75 44 24  7 266  1871  35   90 77.0% 0.083\n",
      "OVERALL  53.5% 68.5% 43.9% 61.7% 96.3% 137 55 62 20 656 10744 138  310 58.8% 0.090\n",
      "-------- EPOCH 10 --------\n"
     ]
    },
    {
     "name": "stderr",
     "output_type": "stream",
     "text": [
      "101it [00:13,  8.02it/s]"
     ]
    },
    {
     "name": "stdout",
     "output_type": "stream",
     "text": [
      "Iter 100. Loss: 0.025. Accuracy: 0.999. Recall: 0.997. Precision: 0.985\n"
     ]
    },
    {
     "name": "stderr",
     "output_type": "stream",
     "text": [
      "201it [00:25,  7.80it/s]"
     ]
    },
    {
     "name": "stdout",
     "output_type": "stream",
     "text": [
      "Iter 200. Loss: 0.024. Accuracy: 0.999. Recall: 0.998. Precision: 0.987\n"
     ]
    },
    {
     "name": "stderr",
     "output_type": "stream",
     "text": [
      "301it [00:38,  7.73it/s]"
     ]
    },
    {
     "name": "stdout",
     "output_type": "stream",
     "text": [
      "Iter 300. Loss: 0.022. Accuracy: 0.999. Recall: 0.999. Precision: 0.985\n"
     ]
    },
    {
     "name": "stderr",
     "output_type": "stream",
     "text": [
      "401it [00:51,  7.76it/s]"
     ]
    },
    {
     "name": "stdout",
     "output_type": "stream",
     "text": [
      "Iter 400. Loss: 0.029. Accuracy: 0.999. Recall: 0.997. Precision: 0.985\n"
     ]
    },
    {
     "name": "stderr",
     "output_type": "stream",
     "text": [
      "476it [01:01,  7.74it/s]\n"
     ]
    },
    {
     "name": "stdout",
     "output_type": "stream",
     "text": [
      "Tracking: MOT16-02\n"
     ]
    },
    {
     "ename": "KeyboardInterrupt",
     "evalue": "",
     "output_type": "error",
     "traceback": [
      "\u001b[0;31m---------------------------------------------------------------------------\u001b[0m",
      "\u001b[0;31mKeyboardInterrupt\u001b[0m                         Traceback (most recent call last)",
      "\u001b[0;32m<ipython-input-47-6b17bfd6bdb2>\u001b[0m in \u001b[0;36m<module>\u001b[0;34m\u001b[0m\n\u001b[1;32m      8\u001b[0m         \u001b[0mtracker\u001b[0m \u001b[0;34m=\u001b[0m  \u001b[0mMPNTracker\u001b[0m\u001b[0;34m(\u001b[0m\u001b[0massign_net\u001b[0m\u001b[0;34m=\u001b[0m\u001b[0massign_net\u001b[0m\u001b[0;34m.\u001b[0m\u001b[0meval\u001b[0m\u001b[0;34m(\u001b[0m\u001b[0;34m)\u001b[0m\u001b[0;34m,\u001b[0m \u001b[0mobj_detect\u001b[0m\u001b[0;34m=\u001b[0m\u001b[0;32mNone\u001b[0m\u001b[0;34m,\u001b[0m \u001b[0mpatience\u001b[0m\u001b[0;34m=\u001b[0m\u001b[0mMAX_PATIENCE\u001b[0m\u001b[0;34m)\u001b[0m\u001b[0;34m\u001b[0m\u001b[0;34m\u001b[0m\u001b[0m\n\u001b[1;32m      9\u001b[0m         \u001b[0mval_sequences\u001b[0m \u001b[0;34m=\u001b[0m \u001b[0mMOT16Sequences\u001b[0m\u001b[0;34m(\u001b[0m\u001b[0;34m'MOT16-val2'\u001b[0m\u001b[0;34m,\u001b[0m \u001b[0mosp\u001b[0m\u001b[0;34m.\u001b[0m\u001b[0mjoin\u001b[0m\u001b[0;34m(\u001b[0m\u001b[0mroot_dir\u001b[0m\u001b[0;34m,\u001b[0m \u001b[0;34m'data/MOT16'\u001b[0m\u001b[0;34m)\u001b[0m\u001b[0;34m,\u001b[0m \u001b[0mvis_threshold\u001b[0m\u001b[0;34m=\u001b[0m\u001b[0;36m0.\u001b[0m\u001b[0;34m)\u001b[0m\u001b[0;34m\u001b[0m\u001b[0;34m\u001b[0m\u001b[0m\n\u001b[0;32m---> 10\u001b[0;31m         \u001b[0mres\u001b[0m \u001b[0;34m=\u001b[0m \u001b[0mrun_tracker\u001b[0m\u001b[0;34m(\u001b[0m\u001b[0mval_sequences\u001b[0m\u001b[0;34m,\u001b[0m \u001b[0mdb\u001b[0m\u001b[0;34m=\u001b[0m\u001b[0mtrain_db\u001b[0m\u001b[0;34m,\u001b[0m \u001b[0mtracker\u001b[0m\u001b[0;34m=\u001b[0m\u001b[0mtracker\u001b[0m\u001b[0;34m,\u001b[0m \u001b[0moutput_dir\u001b[0m\u001b[0;34m=\u001b[0m\u001b[0;32mNone\u001b[0m\u001b[0;34m)\u001b[0m\u001b[0;34m\u001b[0m\u001b[0;34m\u001b[0m\u001b[0m\n\u001b[0m\u001b[1;32m     11\u001b[0m         \u001b[0midf1\u001b[0m \u001b[0;34m=\u001b[0m \u001b[0mres\u001b[0m\u001b[0;34m.\u001b[0m\u001b[0mloc\u001b[0m\u001b[0;34m[\u001b[0m\u001b[0;34m'OVERALL'\u001b[0m\u001b[0;34m]\u001b[0m\u001b[0;34m[\u001b[0m\u001b[0;34m'idf1'\u001b[0m\u001b[0;34m]\u001b[0m\u001b[0;34m\u001b[0m\u001b[0;34m\u001b[0m\u001b[0m\n\u001b[1;32m     12\u001b[0m         \u001b[0;32mif\u001b[0m \u001b[0midf1\u001b[0m \u001b[0;34m>\u001b[0m \u001b[0mbest_idf1\u001b[0m\u001b[0;34m:\u001b[0m\u001b[0;34m\u001b[0m\u001b[0;34m\u001b[0m\u001b[0m\n",
      "\u001b[0;32m/scratch/users/akul16/tum/TUM_cv3/cv3dst_gnn_exercise/src/tracker/utils.py\u001b[0m in \u001b[0;36mrun_tracker\u001b[0;34m(val_sequences, db, tracker, output_dir)\u001b[0m\n\u001b[1;32m    269\u001b[0m             \u001b[0mprint\u001b[0m\u001b[0;34m(\u001b[0m\u001b[0;34mf\"No GT evaluation data available.\"\u001b[0m\u001b[0;34m)\u001b[0m\u001b[0;34m\u001b[0m\u001b[0;34m\u001b[0m\u001b[0m\n\u001b[1;32m    270\u001b[0m         \u001b[0;32melse\u001b[0m\u001b[0;34m:\u001b[0m\u001b[0;34m\u001b[0m\u001b[0;34m\u001b[0m\u001b[0m\n\u001b[0;32m--> 271\u001b[0;31m             \u001b[0mmot_accums\u001b[0m\u001b[0;34m.\u001b[0m\u001b[0mappend\u001b[0m\u001b[0;34m(\u001b[0m\u001b[0mget_mot_accum\u001b[0m\u001b[0;34m(\u001b[0m\u001b[0mresults\u001b[0m\u001b[0;34m,\u001b[0m \u001b[0mseq\u001b[0m\u001b[0;34m)\u001b[0m\u001b[0;34m)\u001b[0m\u001b[0;34m\u001b[0m\u001b[0;34m\u001b[0m\u001b[0m\n\u001b[0m\u001b[1;32m    272\u001b[0m \u001b[0;34m\u001b[0m\u001b[0m\n\u001b[1;32m    273\u001b[0m         \u001b[0mtime_total\u001b[0m \u001b[0;34m+=\u001b[0m \u001b[0mtime\u001b[0m\u001b[0;34m.\u001b[0m\u001b[0mtime\u001b[0m\u001b[0;34m(\u001b[0m\u001b[0;34m)\u001b[0m \u001b[0;34m-\u001b[0m \u001b[0mnow\u001b[0m\u001b[0;34m\u001b[0m\u001b[0;34m\u001b[0m\u001b[0m\n",
      "\u001b[0;32m/scratch/users/akul16/tum/TUM_cv3/cv3dst_gnn_exercise/src/tracker/utils.py\u001b[0m in \u001b[0;36mget_mot_accum\u001b[0;34m(results, seq)\u001b[0m\n\u001b[1;32m    138\u001b[0m                                     \u001b[0mtrack_boxes\u001b[0m\u001b[0;34m[\u001b[0m\u001b[0;34m:\u001b[0m\u001b[0;34m,\u001b[0m \u001b[0;36m2\u001b[0m\u001b[0;34m]\u001b[0m \u001b[0;34m-\u001b[0m \u001b[0mtrack_boxes\u001b[0m\u001b[0;34m[\u001b[0m\u001b[0;34m:\u001b[0m\u001b[0;34m,\u001b[0m \u001b[0;36m0\u001b[0m\u001b[0;34m]\u001b[0m\u001b[0;34m,\u001b[0m\u001b[0;34m\u001b[0m\u001b[0;34m\u001b[0m\u001b[0m\n\u001b[1;32m    139\u001b[0m                                     track_boxes[:, 3] - track_boxes[:, 1]),\n\u001b[0;32m--> 140\u001b[0;31m                                     axis=1)\n\u001b[0m\u001b[1;32m    141\u001b[0m         \u001b[0;32melse\u001b[0m\u001b[0;34m:\u001b[0m\u001b[0;34m\u001b[0m\u001b[0;34m\u001b[0m\u001b[0m\n\u001b[1;32m    142\u001b[0m             \u001b[0mtrack_boxes\u001b[0m \u001b[0;34m=\u001b[0m \u001b[0mnp\u001b[0m\u001b[0;34m.\u001b[0m\u001b[0marray\u001b[0m\u001b[0;34m(\u001b[0m\u001b[0;34m[\u001b[0m\u001b[0;34m]\u001b[0m\u001b[0;34m)\u001b[0m\u001b[0;34m\u001b[0m\u001b[0;34m\u001b[0m\u001b[0m\n",
      "\u001b[0;32m<__array_function__ internals>\u001b[0m in \u001b[0;36mstack\u001b[0;34m(*args, **kwargs)\u001b[0m\n",
      "\u001b[0;32m~/.local/lib/python3.7/site-packages/numpy/core/shape_base.py\u001b[0m in \u001b[0;36mstack\u001b[0;34m(arrays, axis, out)\u001b[0m\n\u001b[1;32m    431\u001b[0m \u001b[0;34m\u001b[0m\u001b[0m\n\u001b[1;32m    432\u001b[0m     \u001b[0msl\u001b[0m \u001b[0;34m=\u001b[0m \u001b[0;34m(\u001b[0m\u001b[0mslice\u001b[0m\u001b[0;34m(\u001b[0m\u001b[0;32mNone\u001b[0m\u001b[0;34m)\u001b[0m\u001b[0;34m,\u001b[0m\u001b[0;34m)\u001b[0m \u001b[0;34m*\u001b[0m \u001b[0maxis\u001b[0m \u001b[0;34m+\u001b[0m \u001b[0;34m(\u001b[0m\u001b[0m_nx\u001b[0m\u001b[0;34m.\u001b[0m\u001b[0mnewaxis\u001b[0m\u001b[0;34m,\u001b[0m\u001b[0;34m)\u001b[0m\u001b[0;34m\u001b[0m\u001b[0;34m\u001b[0m\u001b[0m\n\u001b[0;32m--> 433\u001b[0;31m     \u001b[0mexpanded_arrays\u001b[0m \u001b[0;34m=\u001b[0m \u001b[0;34m[\u001b[0m\u001b[0marr\u001b[0m\u001b[0;34m[\u001b[0m\u001b[0msl\u001b[0m\u001b[0;34m]\u001b[0m \u001b[0;32mfor\u001b[0m \u001b[0marr\u001b[0m \u001b[0;32min\u001b[0m \u001b[0marrays\u001b[0m\u001b[0;34m]\u001b[0m\u001b[0;34m\u001b[0m\u001b[0;34m\u001b[0m\u001b[0m\n\u001b[0m\u001b[1;32m    434\u001b[0m     \u001b[0;32mreturn\u001b[0m \u001b[0m_nx\u001b[0m\u001b[0;34m.\u001b[0m\u001b[0mconcatenate\u001b[0m\u001b[0;34m(\u001b[0m\u001b[0mexpanded_arrays\u001b[0m\u001b[0;34m,\u001b[0m \u001b[0maxis\u001b[0m\u001b[0;34m=\u001b[0m\u001b[0maxis\u001b[0m\u001b[0;34m,\u001b[0m \u001b[0mout\u001b[0m\u001b[0;34m=\u001b[0m\u001b[0mout\u001b[0m\u001b[0;34m)\u001b[0m\u001b[0;34m\u001b[0m\u001b[0;34m\u001b[0m\u001b[0m\n\u001b[1;32m    435\u001b[0m \u001b[0;34m\u001b[0m\u001b[0m\n",
      "\u001b[0;32m~/.local/lib/python3.7/site-packages/numpy/core/shape_base.py\u001b[0m in \u001b[0;36m<listcomp>\u001b[0;34m(.0)\u001b[0m\n\u001b[1;32m    431\u001b[0m \u001b[0;34m\u001b[0m\u001b[0m\n\u001b[1;32m    432\u001b[0m     \u001b[0msl\u001b[0m \u001b[0;34m=\u001b[0m \u001b[0;34m(\u001b[0m\u001b[0mslice\u001b[0m\u001b[0;34m(\u001b[0m\u001b[0;32mNone\u001b[0m\u001b[0;34m)\u001b[0m\u001b[0;34m,\u001b[0m\u001b[0;34m)\u001b[0m \u001b[0;34m*\u001b[0m \u001b[0maxis\u001b[0m \u001b[0;34m+\u001b[0m \u001b[0;34m(\u001b[0m\u001b[0m_nx\u001b[0m\u001b[0;34m.\u001b[0m\u001b[0mnewaxis\u001b[0m\u001b[0;34m,\u001b[0m\u001b[0;34m)\u001b[0m\u001b[0;34m\u001b[0m\u001b[0;34m\u001b[0m\u001b[0m\n\u001b[0;32m--> 433\u001b[0;31m     \u001b[0mexpanded_arrays\u001b[0m \u001b[0;34m=\u001b[0m \u001b[0;34m[\u001b[0m\u001b[0marr\u001b[0m\u001b[0;34m[\u001b[0m\u001b[0msl\u001b[0m\u001b[0;34m]\u001b[0m \u001b[0;32mfor\u001b[0m \u001b[0marr\u001b[0m \u001b[0;32min\u001b[0m \u001b[0marrays\u001b[0m\u001b[0;34m]\u001b[0m\u001b[0;34m\u001b[0m\u001b[0;34m\u001b[0m\u001b[0m\n\u001b[0m\u001b[1;32m    434\u001b[0m     \u001b[0;32mreturn\u001b[0m \u001b[0m_nx\u001b[0m\u001b[0;34m.\u001b[0m\u001b[0mconcatenate\u001b[0m\u001b[0;34m(\u001b[0m\u001b[0mexpanded_arrays\u001b[0m\u001b[0;34m,\u001b[0m \u001b[0maxis\u001b[0m\u001b[0;34m=\u001b[0m\u001b[0maxis\u001b[0m\u001b[0;34m,\u001b[0m \u001b[0mout\u001b[0m\u001b[0;34m=\u001b[0m\u001b[0mout\u001b[0m\u001b[0;34m)\u001b[0m\u001b[0;34m\u001b[0m\u001b[0;34m\u001b[0m\u001b[0m\n\u001b[1;32m    435\u001b[0m \u001b[0;34m\u001b[0m\u001b[0m\n",
      "\u001b[0;31mKeyboardInterrupt\u001b[0m: "
     ]
    }
   ],
   "source": [
    "best_idf1 = 0.\n",
    "for epoch in range(1, MAX_EPOCHS + 1):\n",
    "    print(f\"-------- EPOCH {epoch:2d} --------\")\n",
    "    train_one_epoch(model = assign_net, data_loader=data_loader, optimizer=optimizer, print_freq=100)\n",
    "    scheduler.step()\n",
    "\n",
    "    if epoch % EVAL_FREQ == 0:\n",
    "        tracker =  MPNTracker(assign_net=assign_net.eval(), obj_detect=None, patience=MAX_PATIENCE)\n",
    "        val_sequences = MOT16Sequences('MOT16-val2', osp.join(root_dir, 'data/MOT16'), vis_threshold=0.)\n",
    "        res = run_tracker(val_sequences, db=train_db, tracker=tracker, output_dir=None)\n",
    "        idf1 = res.loc['OVERALL']['idf1']\n",
    "        if idf1 > best_idf1:\n",
    "            best_idf1 = idf1\n",
    "            torch.save(assign_net.state_dict(), osp.join(root_dir, 'output', 'best_ckpt.pth'))\n",
    "        "
   ]
  },
  {
   "cell_type": "markdown",
   "metadata": {
    "id": "I5Vbe4g27ot-"
   },
   "source": [
    "# Exercise submission\n",
    "\n",
    "After executing the followinc cell the `Colab Notebooks/cv3dst_exercise/output` directory in your Google Drive should contain multiple `MOT16-XY.txt` files.\n",
    "\n",
    "For the final submission you have to process the test sequences and upload the zipped prediction files to our server. See moodle for a guide how to upload the results.\n",
    "\n",
    "Note that this time, you only have to evaluate three sequences!"
   ]
  },
  {
   "cell_type": "code",
   "execution_count": 48,
   "metadata": {
    "id": "8kJsbbMM7ot_"
   },
   "outputs": [
    {
     "name": "stdout",
     "output_type": "stream",
     "text": [
      "Tracking: MOT16-01\n",
      "No GT evaluation data available.\n",
      "Tracks found: 76\n",
      "Runtime for MOT16-01: 2.8 s.\n",
      "Writing predictions to: cv3dst_exercise/output/MOT16-01.txt\n",
      "Tracking: MOT16-08\n",
      "No GT evaluation data available.\n",
      "Tracks found: 131\n",
      "Runtime for MOT16-08: 3.7 s.\n",
      "Writing predictions to: cv3dst_exercise/output/MOT16-08.txt\n",
      "Tracking: MOT16-12\n",
      "No GT evaluation data available.\n",
      "Tracks found: 128\n",
      "Runtime for MOT16-12: 5.0 s.\n",
      "Writing predictions to: cv3dst_exercise/output/MOT16-12.txt\n",
      "Runtime for all sequences: 11.5 s.\n"
     ]
    }
   ],
   "source": [
    "best_ckpt = torch.load(osp.join(root_dir, 'output', 'best_ckpt.pth'))\n",
    "assign_net.load_state_dict(best_ckpt)\n",
    "\n",
    "tracker =  MPNTracker(assign_net=assign_net.eval(), obj_detect=None, patience=MAX_PATIENCE)\n",
    "test_db = torch.load(osp.join(gnn_root_dir, 'data/preprocessed_data_test_2.pth'))\n",
    "val_sequences = MOT16Sequences('MOT16-test', osp.join(root_dir, 'data/MOT16'), vis_threshold=0.)\n",
    "run_tracker(val_sequences, db=test_db, tracker=tracker, output_dir=osp.join(root_dir, 'output'))"
   ]
  },
  {
   "cell_type": "code",
   "execution_count": null,
   "metadata": {},
   "outputs": [],
   "source": []
  },
  {
   "cell_type": "code",
   "execution_count": null,
   "metadata": {},
   "outputs": [],
   "source": []
  }
 ],
 "metadata": {
  "accelerator": "GPU",
  "colab": {
   "collapsed_sections": [],
   "machine_shape": "hm",
   "name": "CV3DST_Exercise2.ipynb",
   "provenance": []
  },
  "kernelspec": {
   "display_name": "Python 3",
   "language": "python",
   "name": "python3"
  },
  "language_info": {
   "codemirror_mode": {
    "name": "ipython",
    "version": 3
   },
   "file_extension": ".py",
   "mimetype": "text/x-python",
   "name": "python",
   "nbconvert_exporter": "python",
   "pygments_lexer": "ipython3",
   "version": "3.7.6"
  }
 },
 "nbformat": 4,
 "nbformat_minor": 1
}
